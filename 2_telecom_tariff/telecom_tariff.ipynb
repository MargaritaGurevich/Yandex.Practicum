{
 "cells": [
  {
   "cell_type": "markdown",
   "metadata": {},
   "source": [
    "# Проект: Определение перспективного тарифа для телеком компании.\n",
    "\n",
    "Клиентам предлагают два тарифных плана: «Смарт» и «Ультра». Чтобы скорректировать рекламный бюджет, коммерческий департамент хочет понять, какой тариф приносит больше денег.\n",
    "Запрос от бизнеса: проанализировать поведение клиентов и сделать вывод — какой тариф лучше. Сделать предварительный анализ тарифов на небольшой выборке клиентов. В вашем распоряжении данные 500 пользователей «Мегалайна»: кто они, откуда, каким тарифом пользуются, сколько звонков и сообщений каждый отправил за 2018 год. \n",
    "\n",
    "\n",
    "#### Описание тарифов\n",
    " - Тариф «Смарт»\n",
    "\n",
    "Ежемесячная плата: 550 рублей\n",
    "\n",
    "Включено 500 минут разговора, 50 сообщений и 15 Гб интернет-трафика\n",
    "\n",
    "Стоимость услуг сверх тарифного пакета:\n",
    "\n",
    "минута разговора: 3 рубля, сообщение: 3 рубля, 1 Гб интернет-трафика: 200 рублей\n",
    "\n",
    " - Тариф «Ультра»\n",
    " \n",
    "Ежемесячная плата: 1950 рублей\n",
    "\n",
    "Включено 3000 минут разговора, 1000 сообщений и 30 Гб интернет-трафика\n",
    "\n",
    "Стоимость услуг сверх тарифного пакета:\n",
    "\n",
    "минута разговора: 1 рубль, сообщение: 1 рубль, 1 Гб интернет-трафика: 150 рублей"
   ]
  },
  {
   "cell_type": "markdown",
   "metadata": {},
   "source": [
    "<b>Содержание:</b>\n",
    "1. [Получение данных и изучение общей информации.](##step1)  \n",
    "2. [Предобработка данных.](##step2)\n",
    "3. [Анализ данных.](##step3)\n",
    "4. [Проверка гипотез.](##step4)\n",
    "5. [Выводы.](##step5)\n"
   ]
  },
  {
   "cell_type": "markdown",
   "metadata": {},
   "source": [
    "<a id='#step1'></a>  \n",
    "\n",
    "<b> 1. Получение данных и изучение общей информации."
   ]
  },
  {
   "cell_type": "code",
   "execution_count": 1,
   "metadata": {},
   "outputs": [],
   "source": [
    "import pandas as pd\n",
    "import numpy as np\n",
    "from datetime import datetime, timedelta\n",
    "import seaborn as sns\n",
    "import math as mt\n",
    "from scipy import stats as st\n",
    "import matplotlib.pyplot as plt\n",
    "import matplotlib.mlab as mlab\n",
    "import matplotlib\n",
    "from matplotlib import pyplot as plt\n",
    "from math import factorial\n",
    "from scipy.stats import norm\n",
    "from matplotlib.pyplot import figure\n",
    "%matplotlib inline\n",
    "matplotlib.rcParams['figure.figsize'] = (10,6)\n",
    "pd.options.mode.chained_assignment = None"
   ]
  },
  {
   "cell_type": "code",
   "execution_count": 2,
   "metadata": {},
   "outputs": [
    {
     "name": "stdout",
     "output_type": "stream",
     "text": [
      "<class 'pandas.core.frame.DataFrame'>\n",
      "RangeIndex: 500 entries, 0 to 499\n",
      "Data columns (total 8 columns):\n",
      "user_id       500 non-null int64\n",
      "age           500 non-null int64\n",
      "churn_date    38 non-null object\n",
      "city          500 non-null object\n",
      "first_name    500 non-null object\n",
      "last_name     500 non-null object\n",
      "reg_date      500 non-null object\n",
      "tariff        500 non-null object\n",
      "dtypes: int64(2), object(6)\n",
      "memory usage: 31.4+ KB\n",
      "None\n",
      "   user_id  age churn_date       city first_name  last_name    reg_date tariff\n",
      "0     1000   52        NaN  Краснодар     Рафаил  Верещагин  2018-05-25  ultra\n",
      "1     1001   41        NaN     Москва       Иван       Ежов  2018-11-01  smart\n",
      "______________________________________________________________\n",
      "<class 'pandas.core.frame.DataFrame'>\n",
      "RangeIndex: 202607 entries, 0 to 202606\n",
      "Data columns (total 4 columns):\n",
      "id           202607 non-null object\n",
      "call_date    202607 non-null object\n",
      "duration     202607 non-null float64\n",
      "user_id      202607 non-null int64\n",
      "dtypes: float64(1), int64(1), object(2)\n",
      "memory usage: 6.2+ MB\n",
      "None\n",
      "       id   call_date  duration  user_id\n",
      "0  1000_0  2018-07-25       0.0     1000\n",
      "1  1000_1  2018-08-17       0.0     1000\n",
      "______________________________________________________________\n",
      "<class 'pandas.core.frame.DataFrame'>\n",
      "RangeIndex: 149396 entries, 0 to 149395\n",
      "Data columns (total 5 columns):\n",
      "Unnamed: 0      149396 non-null int64\n",
      "id              149396 non-null object\n",
      "mb_used         149396 non-null float64\n",
      "session_date    149396 non-null object\n",
      "user_id         149396 non-null int64\n",
      "dtypes: float64(1), int64(2), object(2)\n",
      "memory usage: 5.7+ MB\n",
      "None\n",
      "   Unnamed: 0      id  mb_used session_date  user_id\n",
      "0           0  1000_0   112.95   2018-11-25     1000\n",
      "1           1  1000_1  1052.81   2018-09-07     1000\n",
      "______________________________________________________________\n",
      "<class 'pandas.core.frame.DataFrame'>\n",
      "RangeIndex: 123036 entries, 0 to 123035\n",
      "Data columns (total 3 columns):\n",
      "id              123036 non-null object\n",
      "message_date    123036 non-null object\n",
      "user_id         123036 non-null int64\n",
      "dtypes: int64(1), object(2)\n",
      "memory usage: 2.8+ MB\n",
      "None\n",
      "       id message_date  user_id\n",
      "0  1000_0   2018-06-27     1000\n",
      "1  1000_1   2018-10-08     1000\n",
      "______________________________________________________________\n",
      "<class 'pandas.core.frame.DataFrame'>\n",
      "RangeIndex: 2 entries, 0 to 1\n",
      "Data columns (total 8 columns):\n",
      "messages_included        2 non-null int64\n",
      "mb_per_month_included    2 non-null int64\n",
      "minutes_included         2 non-null int64\n",
      "rub_monthly_fee          2 non-null int64\n",
      "rub_per_gb               2 non-null int64\n",
      "rub_per_message          2 non-null int64\n",
      "rub_per_minute           2 non-null int64\n",
      "tariff_name              2 non-null object\n",
      "dtypes: int64(7), object(1)\n",
      "memory usage: 256.0+ bytes\n",
      "None\n",
      "   messages_included  mb_per_month_included  minutes_included  \\\n",
      "0                 50                  15360               500   \n",
      "1               1000                  30720              3000   \n",
      "\n",
      "   rub_monthly_fee  rub_per_gb  rub_per_message  rub_per_minute tariff_name  \n",
      "0              550         200                3               3       smart  \n",
      "1             1950         150                1               1       ultra  \n",
      "______________________________________________________________\n"
     ]
    }
   ],
   "source": [
    "calls = pd.read_csv('/datasets/calls.csv')#, sep=\"\\t\")\n",
    "internet = pd.read_csv('/datasets/internet.csv')\n",
    "messages = pd.read_csv('/datasets/messages.csv')\n",
    "tariffs = pd.read_csv('/datasets/tariffs.csv')\n",
    "users = pd.read_csv('/datasets/users.csv')\n",
    "\n",
    "def table_info():\n",
    "    for table in [users, calls, internet, messages, tariffs]:\n",
    "        print(table.info())\n",
    "        print(table.head(2))\n",
    "        print('______________________________________________________________')\n",
    "\n",
    "table_info()"
   ]
  },
  {
   "cell_type": "markdown",
   "metadata": {},
   "source": [
    "<b> Вывод</b>\n",
    "\n",
    "Имеем 5 исходных таблиц с информацией о пользователях, звонках, смс, трафике и тарифах.\n",
    "Пропущенные значения есть только в таблице с пользователями, в столбце с датой окончания использования тарифа. Заполнено лишь 38 из 500, что означает что отказы не очень частое явление. Темой отдельного исследования могло бы стать изучение причины отказов. \n",
    "\n",
    "Также видно, что нужно поменять типы некоторых данных, сделаем это ниже.\n",
    "Уникальный столбец user_id, есть во всех таблицах (кроме тарифов), будем группировать таблицы именно по нему, когда в этом будет необходимость.\n",
    "\n",
    "Видим, что в целом данные выгружены корректно, названия столбцов не содержат лишних пробелов, все в одном регистре, а также корректно отображают смысл содержания столбца, а значит доработки не требуют. Также нет отрицательных значений в столбцах, где их и не может быть по смыслу."
   ]
  },
  {
   "cell_type": "markdown",
   "metadata": {},
   "source": [
    "<b>2. Предобработка данных.<a id='#step2'></a>"
   ]
  },
  {
   "cell_type": "markdown",
   "metadata": {},
   "source": [
    "<b> 2. 1. Преобразование типов данных:\n",
    "\n",
    " 2.1.1. Изменение типов данных"
   ]
  },
  {
   "cell_type": "code",
   "execution_count": 3,
   "metadata": {
    "scrolled": true
   },
   "outputs": [],
   "source": [
    "def change_type(table, col_name):\n",
    "    table[col_name] = pd.to_datetime(table[col_name], format='%Y-%m-%dT%')#H:%M:%S')\n",
    "\n",
    "change_type(calls, 'call_date')\n",
    "change_type(internet, 'session_date')\n",
    "change_type(messages, 'message_date')"
   ]
  },
  {
   "cell_type": "code",
   "execution_count": 4,
   "metadata": {},
   "outputs": [],
   "source": [
    "calls['duration']= np.ceil(calls['duration']).astype('int')\n",
    "internet['mb_used'] = np.ceil(internet['mb_used']).astype('int')"
   ]
  },
  {
   "cell_type": "markdown",
   "metadata": {},
   "source": [
    "<b>2.2.1. Удаление лишних строк.</b>\n",
    "\n",
    "Удалим из таблицы все строки с длительностью разговора = 0, придерживаясь следующей логики: \n",
    "\n",
    " - во-первых, если в таблице 0, это значит был вызов (входящий или исходящий), но человек не дозвонился, а значит при необходимости перезвонил вновь и, если удачно, то мы увидим этот вызов в списк ненулевых.\n",
    "\n",
    " - во-вторых, в исследовании мы хотим проанализировать какой из тарифов более прибылен для провайдера, а поскольку нулевые звонки не были оплачены, то они только исказят статистику.\n",
    "\n",
    " - в-третьих, таких звонков около 20%, что много, однако и при их удалении мы все равно имеем достаточную выборку строк для реалистичного анализа."
   ]
  },
  {
   "cell_type": "code",
   "execution_count": 5,
   "metadata": {},
   "outputs": [
    {
     "name": "stdout",
     "output_type": "stream",
     "text": [
      "<class 'pandas.core.frame.DataFrame'>\n",
      "Int64Index: 162994 entries, 2 to 202606\n",
      "Data columns (total 4 columns):\n",
      "id           162994 non-null object\n",
      "call_date    162994 non-null datetime64[ns]\n",
      "duration     162994 non-null int64\n",
      "user_id      162994 non-null int64\n",
      "dtypes: datetime64[ns](1), int64(2), object(1)\n",
      "memory usage: 6.2+ MB\n",
      "None\n"
     ]
    }
   ],
   "source": [
    "calls = calls.query('duration  != 0')\n",
    "print(calls.info())"
   ]
  },
  {
   "cell_type": "markdown",
   "metadata": {},
   "source": [
    "<b>2.2. Дополнительные расчеты для каждого пользователя. </b>\n",
    "\n",
    "<b>2.2.1. Рассчитаем следующие величины:</b>\n",
    " - количество сделанных звонков и израсходованных минут разговора по месяцам;\n",
    " - количество отправленных сообщений по месяцам;\n",
    " - объем израсходованного интернет-трафика по месяцам;"
   ]
  },
  {
   "cell_type": "code",
   "execution_count": 6,
   "metadata": {},
   "outputs": [],
   "source": [
    "#добавим столбцы с месяцем в каждую из нужных таблиц\n",
    "def add_month(tab, col):\n",
    "    tab['month'] = pd.DatetimeIndex(tab[col]).month\n",
    "    \n",
    "add_month(calls, 'call_date')\n",
    "add_month(messages, 'message_date')\n",
    "add_month(internet, 'session_date')"
   ]
  },
  {
   "cell_type": "code",
   "execution_count": 7,
   "metadata": {},
   "outputs": [
    {
     "data": {
      "text/html": [
       "<div>\n",
       "<style scoped>\n",
       "    .dataframe tbody tr th:only-of-type {\n",
       "        vertical-align: middle;\n",
       "    }\n",
       "\n",
       "    .dataframe tbody tr th {\n",
       "        vertical-align: top;\n",
       "    }\n",
       "\n",
       "    .dataframe thead tr th {\n",
       "        text-align: left;\n",
       "    }\n",
       "</style>\n",
       "<table border=\"1\" class=\"dataframe\">\n",
       "  <thead>\n",
       "    <tr>\n",
       "      <th></th>\n",
       "      <th>user_id</th>\n",
       "      <th>month</th>\n",
       "      <th>sum</th>\n",
       "      <th>count</th>\n",
       "    </tr>\n",
       "    <tr>\n",
       "      <th></th>\n",
       "      <th></th>\n",
       "      <th></th>\n",
       "      <th>duration</th>\n",
       "      <th>duration</th>\n",
       "    </tr>\n",
       "  </thead>\n",
       "  <tbody>\n",
       "    <tr>\n",
       "      <td>0</td>\n",
       "      <td>1000</td>\n",
       "      <td>5</td>\n",
       "      <td>159</td>\n",
       "      <td>17</td>\n",
       "    </tr>\n",
       "    <tr>\n",
       "      <td>1</td>\n",
       "      <td>1000</td>\n",
       "      <td>6</td>\n",
       "      <td>172</td>\n",
       "      <td>28</td>\n",
       "    </tr>\n",
       "    <tr>\n",
       "      <td>2</td>\n",
       "      <td>1000</td>\n",
       "      <td>7</td>\n",
       "      <td>340</td>\n",
       "      <td>41</td>\n",
       "    </tr>\n",
       "    <tr>\n",
       "      <td>3</td>\n",
       "      <td>1000</td>\n",
       "      <td>8</td>\n",
       "      <td>408</td>\n",
       "      <td>42</td>\n",
       "    </tr>\n",
       "    <tr>\n",
       "      <td>4</td>\n",
       "      <td>1000</td>\n",
       "      <td>9</td>\n",
       "      <td>466</td>\n",
       "      <td>46</td>\n",
       "    </tr>\n",
       "  </tbody>\n",
       "</table>\n",
       "</div>"
      ],
      "text/plain": [
       "  user_id month      sum    count\n",
       "                duration duration\n",
       "0    1000     5      159       17\n",
       "1    1000     6      172       28\n",
       "2    1000     7      340       41\n",
       "3    1000     8      408       42\n",
       "4    1000     9      466       46"
      ]
     },
     "execution_count": 7,
     "metadata": {},
     "output_type": "execute_result"
    }
   ],
   "source": [
    "#количество сделанных звонков и израсходованных минут разговора по месяцам\n",
    "calls_piv = calls.pivot_table(index=['user_id','month'],  values=['duration'], aggfunc=['sum','count']).reset_index()\n",
    "calls_piv.head()"
   ]
  },
  {
   "cell_type": "code",
   "execution_count": 8,
   "metadata": {},
   "outputs": [
    {
     "data": {
      "text/html": [
       "<div>\n",
       "<style scoped>\n",
       "    .dataframe tbody tr th:only-of-type {\n",
       "        vertical-align: middle;\n",
       "    }\n",
       "\n",
       "    .dataframe tbody tr th {\n",
       "        vertical-align: top;\n",
       "    }\n",
       "\n",
       "    .dataframe thead tr th {\n",
       "        text-align: left;\n",
       "    }\n",
       "</style>\n",
       "<table border=\"1\" class=\"dataframe\">\n",
       "  <thead>\n",
       "    <tr>\n",
       "      <th></th>\n",
       "      <th>user_id</th>\n",
       "      <th>month</th>\n",
       "      <th>count</th>\n",
       "    </tr>\n",
       "    <tr>\n",
       "      <th></th>\n",
       "      <th></th>\n",
       "      <th></th>\n",
       "      <th>message_date</th>\n",
       "    </tr>\n",
       "  </thead>\n",
       "  <tbody>\n",
       "    <tr>\n",
       "      <td>0</td>\n",
       "      <td>1000</td>\n",
       "      <td>5</td>\n",
       "      <td>22</td>\n",
       "    </tr>\n",
       "    <tr>\n",
       "      <td>1</td>\n",
       "      <td>1000</td>\n",
       "      <td>6</td>\n",
       "      <td>60</td>\n",
       "    </tr>\n",
       "  </tbody>\n",
       "</table>\n",
       "</div>"
      ],
      "text/plain": [
       "  user_id month        count\n",
       "                message_date\n",
       "0    1000     5           22\n",
       "1    1000     6           60"
      ]
     },
     "execution_count": 8,
     "metadata": {},
     "output_type": "execute_result"
    }
   ],
   "source": [
    "#количество отправленных сообщений по месяцам\n",
    "messages_piv = messages.pivot_table(index=['user_id','month'],  values=['message_date'], aggfunc=['count']).reset_index()\n",
    "messages_piv.head(2)"
   ]
  },
  {
   "cell_type": "code",
   "execution_count": 9,
   "metadata": {},
   "outputs": [
    {
     "data": {
      "text/html": [
       "<div>\n",
       "<style scoped>\n",
       "    .dataframe tbody tr th:only-of-type {\n",
       "        vertical-align: middle;\n",
       "    }\n",
       "\n",
       "    .dataframe tbody tr th {\n",
       "        vertical-align: top;\n",
       "    }\n",
       "\n",
       "    .dataframe thead tr th {\n",
       "        text-align: left;\n",
       "    }\n",
       "</style>\n",
       "<table border=\"1\" class=\"dataframe\">\n",
       "  <thead>\n",
       "    <tr>\n",
       "      <th></th>\n",
       "      <th>user_id</th>\n",
       "      <th>month</th>\n",
       "      <th>sum</th>\n",
       "    </tr>\n",
       "    <tr>\n",
       "      <th></th>\n",
       "      <th></th>\n",
       "      <th></th>\n",
       "      <th>mb_used</th>\n",
       "    </tr>\n",
       "  </thead>\n",
       "  <tbody>\n",
       "    <tr>\n",
       "      <td>0</td>\n",
       "      <td>1000</td>\n",
       "      <td>5</td>\n",
       "      <td>2256</td>\n",
       "    </tr>\n",
       "    <tr>\n",
       "      <td>1</td>\n",
       "      <td>1000</td>\n",
       "      <td>6</td>\n",
       "      <td>23257</td>\n",
       "    </tr>\n",
       "  </tbody>\n",
       "</table>\n",
       "</div>"
      ],
      "text/plain": [
       "  user_id month     sum\n",
       "                mb_used\n",
       "0    1000     5    2256\n",
       "1    1000     6   23257"
      ]
     },
     "execution_count": 9,
     "metadata": {},
     "output_type": "execute_result"
    }
   ],
   "source": [
    "#объем израсходованного интернет-трафика по месяцам\n",
    "internet_piv = internet.pivot_table(index=['user_id','month'],  values=['mb_used'], aggfunc=['sum']).reset_index()\n",
    "internet_piv.head(2)"
   ]
  },
  {
   "cell_type": "code",
   "execution_count": 10,
   "metadata": {},
   "outputs": [
    {
     "name": "stderr",
     "output_type": "stream",
     "text": [
      "/opt/conda/lib/python3.7/site-packages/pandas/core/generic.py:3946: PerformanceWarning: dropping on a non-lexsorted multi-index without a level parameter may impact performance.\n",
      "  new_axis = axis.drop(labels, errors=errors)\n"
     ]
    },
    {
     "data": {
      "text/html": [
       "<div>\n",
       "<style scoped>\n",
       "    .dataframe tbody tr th:only-of-type {\n",
       "        vertical-align: middle;\n",
       "    }\n",
       "\n",
       "    .dataframe tbody tr th {\n",
       "        vertical-align: top;\n",
       "    }\n",
       "\n",
       "    .dataframe thead th {\n",
       "        text-align: right;\n",
       "    }\n",
       "</style>\n",
       "<table border=\"1\" class=\"dataframe\">\n",
       "  <thead>\n",
       "    <tr style=\"text-align: right;\">\n",
       "      <th></th>\n",
       "      <th>user_id</th>\n",
       "      <th>month</th>\n",
       "      <th>sum_duration</th>\n",
       "      <th>count_duration</th>\n",
       "      <th>messages_sum</th>\n",
       "      <th>sum_mb_used</th>\n",
       "    </tr>\n",
       "  </thead>\n",
       "  <tbody>\n",
       "    <tr>\n",
       "      <td>0</td>\n",
       "      <td>1000</td>\n",
       "      <td>5</td>\n",
       "      <td>159.0</td>\n",
       "      <td>17.0</td>\n",
       "      <td>22.0</td>\n",
       "      <td>2256.0</td>\n",
       "    </tr>\n",
       "    <tr>\n",
       "      <td>1</td>\n",
       "      <td>1000</td>\n",
       "      <td>6</td>\n",
       "      <td>172.0</td>\n",
       "      <td>28.0</td>\n",
       "      <td>60.0</td>\n",
       "      <td>23257.0</td>\n",
       "    </tr>\n",
       "    <tr>\n",
       "      <td>2</td>\n",
       "      <td>1000</td>\n",
       "      <td>7</td>\n",
       "      <td>340.0</td>\n",
       "      <td>41.0</td>\n",
       "      <td>75.0</td>\n",
       "      <td>14016.0</td>\n",
       "    </tr>\n",
       "  </tbody>\n",
       "</table>\n",
       "</div>"
      ],
      "text/plain": [
       "   user_id  month  sum_duration  count_duration  messages_sum  sum_mb_used\n",
       "0     1000      5         159.0            17.0          22.0       2256.0\n",
       "1     1000      6         172.0            28.0          60.0      23257.0\n",
       "2     1000      7         340.0            41.0          75.0      14016.0"
      ]
     },
     "execution_count": 10,
     "metadata": {},
     "output_type": "execute_result"
    }
   ],
   "source": [
    "#объединим таблицы \n",
    "data = (calls_piv.merge(messages_piv, on=['user_id','month'], how='outer')\n",
    "                  .merge(internet_piv, on=['user_id','month'], how='outer')\n",
    "                  .fillna(0))\n",
    "\n",
    "data.columns = ['user_id','month','sum_duration','count_duration','messages_sum','sum_mb_used']\n",
    "data.dropna(subset=['sum_duration','count_duration','messages_sum','sum_mb_used'], inplace=True)\n",
    "data.head(3)"
   ]
  },
  {
   "cell_type": "markdown",
   "metadata": {},
   "source": [
    "<b>2.2.2. Отсортируем необходимые стобцы и изменим типы данных:"
   ]
  },
  {
   "cell_type": "code",
   "execution_count": 11,
   "metadata": {},
   "outputs": [
    {
     "data": {
      "text/html": [
       "<div>\n",
       "<style scoped>\n",
       "    .dataframe tbody tr th:only-of-type {\n",
       "        vertical-align: middle;\n",
       "    }\n",
       "\n",
       "    .dataframe tbody tr th {\n",
       "        vertical-align: top;\n",
       "    }\n",
       "\n",
       "    .dataframe thead th {\n",
       "        text-align: right;\n",
       "    }\n",
       "</style>\n",
       "<table border=\"1\" class=\"dataframe\">\n",
       "  <thead>\n",
       "    <tr style=\"text-align: right;\">\n",
       "      <th></th>\n",
       "      <th>user_id</th>\n",
       "      <th>month</th>\n",
       "      <th>sum_duration</th>\n",
       "      <th>count_duration</th>\n",
       "      <th>messages_sum</th>\n",
       "      <th>sum_mb_used</th>\n",
       "      <th>churn_date</th>\n",
       "      <th>city</th>\n",
       "      <th>reg_date</th>\n",
       "      <th>tariff</th>\n",
       "    </tr>\n",
       "  </thead>\n",
       "  <tbody>\n",
       "    <tr>\n",
       "      <td>0</td>\n",
       "      <td>1000</td>\n",
       "      <td>5</td>\n",
       "      <td>159</td>\n",
       "      <td>17</td>\n",
       "      <td>22</td>\n",
       "      <td>2256</td>\n",
       "      <td>0</td>\n",
       "      <td>Краснодар</td>\n",
       "      <td>2018-05-25</td>\n",
       "      <td>ultra</td>\n",
       "    </tr>\n",
       "    <tr>\n",
       "      <td>1</td>\n",
       "      <td>1000</td>\n",
       "      <td>6</td>\n",
       "      <td>172</td>\n",
       "      <td>28</td>\n",
       "      <td>60</td>\n",
       "      <td>23257</td>\n",
       "      <td>0</td>\n",
       "      <td>Краснодар</td>\n",
       "      <td>2018-05-25</td>\n",
       "      <td>ultra</td>\n",
       "    </tr>\n",
       "  </tbody>\n",
       "</table>\n",
       "</div>"
      ],
      "text/plain": [
       "   user_id  month  sum_duration  count_duration  messages_sum  sum_mb_used  \\\n",
       "0     1000      5           159              17            22         2256   \n",
       "1     1000      6           172              28            60        23257   \n",
       "\n",
       "  churn_date       city    reg_date tariff  \n",
       "0          0  Краснодар  2018-05-25  ultra  \n",
       "1          0  Краснодар  2018-05-25  ultra  "
      ]
     },
     "execution_count": 11,
     "metadata": {},
     "output_type": "execute_result"
    }
   ],
   "source": [
    "data_tar = (data.merge(users, on=['user_id'], how='outer').fillna(0))\n",
    "data_tar = data_tar.iloc[:,[0,1,2,3,4,5,7,8,11,12]]\n",
    "\n",
    "#изменим типы данных на int\n",
    "def change_type(tab, col, new_type):\n",
    "    tab[col]= tab[col].astype(new_type)\n",
    "\n",
    "change_type(data_tar, 'month', 'int')\n",
    "change_type(data_tar, 'sum_duration', 'int')\n",
    "change_type(data_tar, 'messages_sum', 'int')\n",
    "change_type(data_tar, 'sum_mb_used', 'int')\n",
    "change_type(data_tar, 'count_duration', 'int')\n",
    "\n",
    "data_tar.head(2)"
   ]
  },
  {
   "cell_type": "code",
   "execution_count": 12,
   "metadata": {},
   "outputs": [],
   "source": [
    "def histogram(tab, col, title, x, y):\n",
    "    tab.hist(col, bins = 30, figsize=(10,5), density = 1);\n",
    "    plt.title(title);\n",
    "    plt.xlabel(x);\n",
    "    plt.ylabel(y);"
   ]
  },
  {
   "cell_type": "markdown",
   "metadata": {},
   "source": [
    "<b>2.2.3. Построим гистограммы для проверки выбросов:"
   ]
  },
  {
   "cell_type": "code",
   "execution_count": 13,
   "metadata": {},
   "outputs": [
    {
     "data": {
      "image/png": "[encoded data removed]",
      "text/plain": [
       "<Figure size 720x360 with 1 Axes>"
      ]
     },
     "metadata": {
      "needs_background": "light"
     },
     "output_type": "display_data"
    }
   ],
   "source": [
    "histogram(data_tar,\"sum_duration\", \"время разговора\", \"время разговора, мин.\", \"количественный показатель\")"
   ]
  },
  {
   "cell_type": "code",
   "execution_count": 14,
   "metadata": {},
   "outputs": [
    {
     "data": {
      "image/png": "[encoded data removed]",
      "text/plain": [
       "<Figure size 720x360 with 1 Axes>"
      ]
     },
     "metadata": {
      "needs_background": "light"
     },
     "output_type": "display_data"
    }
   ],
   "source": [
    "histogram(data_tar,\"count_duration\", \"количество звонков\", \"количество звонков, шт.\", \"количественный показатель\")"
   ]
  },
  {
   "cell_type": "code",
   "execution_count": 15,
   "metadata": {},
   "outputs": [
    {
     "data": {
      "image/png": "[encoded data removed]",
      "text/plain": [
       "<Figure size 720x360 with 1 Axes>"
      ]
     },
     "metadata": {
      "needs_background": "light"
     },
     "output_type": "display_data"
    }
   ],
   "source": [
    "histogram(data_tar,\"messages_sum\", \"сообщения\", \"отправленные смс\", \"количественный показатель\")"
   ]
  },
  {
   "cell_type": "code",
   "execution_count": 16,
   "metadata": {},
   "outputs": [
    {
     "data": {
      "image/png": "[encoded data removed]",
      "text/plain": [
       "<Figure size 720x360 with 1 Axes>"
      ]
     },
     "metadata": {
      "needs_background": "light"
     },
     "output_type": "display_data"
    }
   ],
   "source": [
    "histogram(data_tar,\"sum_mb_used\", \"интернет\", \"истраченный трафик\", \"количественный показатель\")"
   ]
  },
  {
   "cell_type": "markdown",
   "metadata": {},
   "source": [
    "<b>2.2.4. Очистка от выбросов.</b>\n",
    "\n",
    "Из графиков видно, что некоторые пользователи совершают более 150 звонков в месяц и разговаривают более чем по 1000 минут. Будем считать эти значения выбросами, поскольку из графиков видно, что таких пользователей немного.Также отсечем тех, кто отправляет более, чем 150 смс в месяц и тратит более 40000МБ. И дальше рассчитаем расходы клиентов по месяцам."
   ]
  },
  {
   "cell_type": "code",
   "execution_count": 17,
   "metadata": {},
   "outputs": [
    {
     "data": {
      "text/html": [
       "<div>\n",
       "<style scoped>\n",
       "    .dataframe tbody tr th:only-of-type {\n",
       "        vertical-align: middle;\n",
       "    }\n",
       "\n",
       "    .dataframe tbody tr th {\n",
       "        vertical-align: top;\n",
       "    }\n",
       "\n",
       "    .dataframe thead th {\n",
       "        text-align: right;\n",
       "    }\n",
       "</style>\n",
       "<table border=\"1\" class=\"dataframe\">\n",
       "  <thead>\n",
       "    <tr style=\"text-align: right;\">\n",
       "      <th></th>\n",
       "      <th>user_id</th>\n",
       "      <th>month</th>\n",
       "      <th>sum_duration</th>\n",
       "      <th>count_duration</th>\n",
       "      <th>messages_sum</th>\n",
       "      <th>sum_mb_used</th>\n",
       "      <th>churn_date</th>\n",
       "      <th>city</th>\n",
       "      <th>reg_date</th>\n",
       "      <th>tariff</th>\n",
       "    </tr>\n",
       "  </thead>\n",
       "  <tbody>\n",
       "    <tr>\n",
       "      <td>0</td>\n",
       "      <td>1000</td>\n",
       "      <td>5</td>\n",
       "      <td>159</td>\n",
       "      <td>17</td>\n",
       "      <td>22</td>\n",
       "      <td>2256</td>\n",
       "      <td>0</td>\n",
       "      <td>Краснодар</td>\n",
       "      <td>2018-05-25</td>\n",
       "      <td>ultra</td>\n",
       "    </tr>\n",
       "    <tr>\n",
       "      <td>1</td>\n",
       "      <td>1000</td>\n",
       "      <td>6</td>\n",
       "      <td>172</td>\n",
       "      <td>28</td>\n",
       "      <td>60</td>\n",
       "      <td>23257</td>\n",
       "      <td>0</td>\n",
       "      <td>Краснодар</td>\n",
       "      <td>2018-05-25</td>\n",
       "      <td>ultra</td>\n",
       "    </tr>\n",
       "  </tbody>\n",
       "</table>\n",
       "</div>"
      ],
      "text/plain": [
       "   user_id  month  sum_duration  count_duration  messages_sum  sum_mb_used  \\\n",
       "0     1000      5           159              17            22         2256   \n",
       "1     1000      6           172              28            60        23257   \n",
       "\n",
       "  churn_date       city    reg_date tariff  \n",
       "0          0  Краснодар  2018-05-25  ultra  \n",
       "1          0  Краснодар  2018-05-25  ultra  "
      ]
     },
     "execution_count": 17,
     "metadata": {},
     "output_type": "execute_result"
    }
   ],
   "source": [
    "data_tar = data_tar.query('sum_duration < 1000 & count_duration <110 & messages_sum < 150 & sum_mb_used <40000' )\n",
    "data_tar.head(2)"
   ]
  },
  {
   "cell_type": "code",
   "execution_count": 18,
   "metadata": {},
   "outputs": [
    {
     "data": {
      "text/html": [
       "<div>\n",
       "<style scoped>\n",
       "    .dataframe tbody tr th:only-of-type {\n",
       "        vertical-align: middle;\n",
       "    }\n",
       "\n",
       "    .dataframe tbody tr th {\n",
       "        vertical-align: top;\n",
       "    }\n",
       "\n",
       "    .dataframe thead th {\n",
       "        text-align: right;\n",
       "    }\n",
       "</style>\n",
       "<table border=\"1\" class=\"dataframe\">\n",
       "  <thead>\n",
       "    <tr style=\"text-align: right;\">\n",
       "      <th></th>\n",
       "      <th>messages_included</th>\n",
       "      <th>mb_per_month_included</th>\n",
       "      <th>minutes_included</th>\n",
       "      <th>rub_monthly_fee</th>\n",
       "      <th>rub_per_gb</th>\n",
       "      <th>rub_per_message</th>\n",
       "      <th>rub_per_minute</th>\n",
       "      <th>tariff_name</th>\n",
       "    </tr>\n",
       "  </thead>\n",
       "  <tbody>\n",
       "    <tr>\n",
       "      <td>0</td>\n",
       "      <td>50</td>\n",
       "      <td>15360</td>\n",
       "      <td>500</td>\n",
       "      <td>550</td>\n",
       "      <td>200</td>\n",
       "      <td>3</td>\n",
       "      <td>3</td>\n",
       "      <td>smart</td>\n",
       "    </tr>\n",
       "    <tr>\n",
       "      <td>1</td>\n",
       "      <td>1000</td>\n",
       "      <td>30720</td>\n",
       "      <td>3000</td>\n",
       "      <td>1950</td>\n",
       "      <td>150</td>\n",
       "      <td>1</td>\n",
       "      <td>1</td>\n",
       "      <td>ultra</td>\n",
       "    </tr>\n",
       "  </tbody>\n",
       "</table>\n",
       "</div>"
      ],
      "text/plain": [
       "   messages_included  mb_per_month_included  minutes_included  \\\n",
       "0                 50                  15360               500   \n",
       "1               1000                  30720              3000   \n",
       "\n",
       "   rub_monthly_fee  rub_per_gb  rub_per_message  rub_per_minute tariff_name  \n",
       "0              550         200                3               3       smart  \n",
       "1             1950         150                1               1       ultra  "
      ]
     },
     "execution_count": 18,
     "metadata": {},
     "output_type": "execute_result"
    }
   ],
   "source": [
    "tariffs"
   ]
  },
  {
   "cell_type": "markdown",
   "metadata": {},
   "source": [
    "<b>2.2.5. Расчитаем помесячную выручку с каждого пользователя, а также разделим таблицы на две по тарифам для упрощения расчетов."
   ]
  },
  {
   "cell_type": "code",
   "execution_count": 19,
   "metadata": {},
   "outputs": [
    {
     "data": {
      "text/html": [
       "<div>\n",
       "<style scoped>\n",
       "    .dataframe tbody tr th:only-of-type {\n",
       "        vertical-align: middle;\n",
       "    }\n",
       "\n",
       "    .dataframe tbody tr th {\n",
       "        vertical-align: top;\n",
       "    }\n",
       "\n",
       "    .dataframe thead th {\n",
       "        text-align: right;\n",
       "    }\n",
       "</style>\n",
       "<table border=\"1\" class=\"dataframe\">\n",
       "  <thead>\n",
       "    <tr style=\"text-align: right;\">\n",
       "      <th></th>\n",
       "      <th>user_id</th>\n",
       "      <th>month</th>\n",
       "      <th>sum_duration</th>\n",
       "      <th>count_duration</th>\n",
       "      <th>messages_sum</th>\n",
       "      <th>sum_mb_used</th>\n",
       "      <th>churn_date</th>\n",
       "      <th>city</th>\n",
       "      <th>reg_date</th>\n",
       "      <th>tariff</th>\n",
       "      <th>income</th>\n",
       "    </tr>\n",
       "  </thead>\n",
       "  <tbody>\n",
       "    <tr>\n",
       "      <td>0</td>\n",
       "      <td>1001</td>\n",
       "      <td>11</td>\n",
       "      <td>430</td>\n",
       "      <td>45</td>\n",
       "      <td>0</td>\n",
       "      <td>18452</td>\n",
       "      <td>0</td>\n",
       "      <td>Москва</td>\n",
       "      <td>2018-11-01</td>\n",
       "      <td>smart</td>\n",
       "      <td>1350.0</td>\n",
       "    </tr>\n",
       "    <tr>\n",
       "      <td>1</td>\n",
       "      <td>1001</td>\n",
       "      <td>12</td>\n",
       "      <td>414</td>\n",
       "      <td>47</td>\n",
       "      <td>0</td>\n",
       "      <td>14053</td>\n",
       "      <td>0</td>\n",
       "      <td>Москва</td>\n",
       "      <td>2018-11-01</td>\n",
       "      <td>smart</td>\n",
       "      <td>550.0</td>\n",
       "    </tr>\n",
       "    <tr>\n",
       "      <td>2</td>\n",
       "      <td>1002</td>\n",
       "      <td>6</td>\n",
       "      <td>117</td>\n",
       "      <td>14</td>\n",
       "      <td>4</td>\n",
       "      <td>10871</td>\n",
       "      <td>0</td>\n",
       "      <td>Стерлитамак</td>\n",
       "      <td>2018-06-17</td>\n",
       "      <td>smart</td>\n",
       "      <td>550.0</td>\n",
       "    </tr>\n",
       "  </tbody>\n",
       "</table>\n",
       "</div>"
      ],
      "text/plain": [
       "   user_id  month  sum_duration  count_duration  messages_sum  sum_mb_used  \\\n",
       "0     1001     11           430              45             0        18452   \n",
       "1     1001     12           414              47             0        14053   \n",
       "2     1002      6           117              14             4        10871   \n",
       "\n",
       "  churn_date         city    reg_date tariff  income  \n",
       "0          0       Москва  2018-11-01  smart  1350.0  \n",
       "1          0       Москва  2018-11-01  smart   550.0  \n",
       "2          0  Стерлитамак  2018-06-17  smart   550.0  "
      ]
     },
     "execution_count": 19,
     "metadata": {},
     "output_type": "execute_result"
    }
   ],
   "source": [
    "data_tar_s = data_tar.query('tariff == \"smart\"').reset_index(drop=True)\n",
    "data_tar_s['income'] = (data_tar_s['sum_duration'].apply(lambda x: (x-500)*3 if x-500>0 else 0)\n",
    "                       + data_tar_s['messages_sum'].apply(lambda x: (x-50)*3 if x-50>0 else 0)\n",
    "                       + data_tar_s['sum_mb_used'].apply(lambda x: np.ceil((x-15360)/1024)*200 if x-15360>0 else 0)\n",
    "                       +550)\n",
    "data_tar_s.head(3)"
   ]
  },
  {
   "cell_type": "code",
   "execution_count": 20,
   "metadata": {},
   "outputs": [
    {
     "data": {
      "text/html": [
       "<div>\n",
       "<style scoped>\n",
       "    .dataframe tbody tr th:only-of-type {\n",
       "        vertical-align: middle;\n",
       "    }\n",
       "\n",
       "    .dataframe tbody tr th {\n",
       "        vertical-align: top;\n",
       "    }\n",
       "\n",
       "    .dataframe thead th {\n",
       "        text-align: right;\n",
       "    }\n",
       "</style>\n",
       "<table border=\"1\" class=\"dataframe\">\n",
       "  <thead>\n",
       "    <tr style=\"text-align: right;\">\n",
       "      <th></th>\n",
       "      <th>user_id</th>\n",
       "      <th>month</th>\n",
       "      <th>sum_duration</th>\n",
       "      <th>count_duration</th>\n",
       "      <th>messages_sum</th>\n",
       "      <th>sum_mb_used</th>\n",
       "      <th>churn_date</th>\n",
       "      <th>city</th>\n",
       "      <th>reg_date</th>\n",
       "      <th>tariff</th>\n",
       "      <th>income</th>\n",
       "    </tr>\n",
       "  </thead>\n",
       "  <tbody>\n",
       "    <tr>\n",
       "      <td>0</td>\n",
       "      <td>1000</td>\n",
       "      <td>5</td>\n",
       "      <td>159</td>\n",
       "      <td>17</td>\n",
       "      <td>22</td>\n",
       "      <td>2256</td>\n",
       "      <td>0</td>\n",
       "      <td>Краснодар</td>\n",
       "      <td>2018-05-25</td>\n",
       "      <td>ultra</td>\n",
       "      <td>1950.0</td>\n",
       "    </tr>\n",
       "    <tr>\n",
       "      <td>1</td>\n",
       "      <td>1000</td>\n",
       "      <td>6</td>\n",
       "      <td>172</td>\n",
       "      <td>28</td>\n",
       "      <td>60</td>\n",
       "      <td>23257</td>\n",
       "      <td>0</td>\n",
       "      <td>Краснодар</td>\n",
       "      <td>2018-05-25</td>\n",
       "      <td>ultra</td>\n",
       "      <td>1950.0</td>\n",
       "    </tr>\n",
       "    <tr>\n",
       "      <td>2</td>\n",
       "      <td>1000</td>\n",
       "      <td>7</td>\n",
       "      <td>340</td>\n",
       "      <td>41</td>\n",
       "      <td>75</td>\n",
       "      <td>14016</td>\n",
       "      <td>0</td>\n",
       "      <td>Краснодар</td>\n",
       "      <td>2018-05-25</td>\n",
       "      <td>ultra</td>\n",
       "      <td>1950.0</td>\n",
       "    </tr>\n",
       "  </tbody>\n",
       "</table>\n",
       "</div>"
      ],
      "text/plain": [
       "   user_id  month  sum_duration  count_duration  messages_sum  sum_mb_used  \\\n",
       "0     1000      5           159              17            22         2256   \n",
       "1     1000      6           172              28            60        23257   \n",
       "2     1000      7           340              41            75        14016   \n",
       "\n",
       "  churn_date       city    reg_date tariff  income  \n",
       "0          0  Краснодар  2018-05-25  ultra  1950.0  \n",
       "1          0  Краснодар  2018-05-25  ultra  1950.0  \n",
       "2          0  Краснодар  2018-05-25  ultra  1950.0  "
      ]
     },
     "execution_count": 20,
     "metadata": {},
     "output_type": "execute_result"
    }
   ],
   "source": [
    "data_tar_u = data_tar.query('tariff == \"ultra\"').reset_index(drop=True)\n",
    "data_tar_u['income'] = (data_tar_s['sum_duration'].apply(lambda x: (x-3000) if x-3000>0 else 0)\n",
    "                       + data_tar_s['messages_sum'].apply(lambda x: (x-1000) if x-1000>0 else 0)\n",
    "                       + data_tar_s['sum_mb_used'].apply(lambda x: np.ceil((x-30720)/1024)*150 if x-30720>0 else 0)\n",
    "                       +1950)\n",
    "\n",
    "data_tar_u.head(3)"
   ]
  },
  {
   "cell_type": "markdown",
   "metadata": {},
   "source": [
    "<b> 3. Анализ данных.<a id='#step3'></a></b>\n",
    "\n",
    "Проанализируем сколько минут разговора, сообщений и интернет-трафика требуется пользователям каждого тарифа в месяц? \n",
    "Посчитайте среднее количество, дисперсию и стандартное отклонение."
   ]
  },
  {
   "cell_type": "code",
   "execution_count": 21,
   "metadata": {},
   "outputs": [
    {
     "name": "stdout",
     "output_type": "stream",
     "text": [
      "ТАРИФ Ultra:\n",
      "                  mean      std     variance\n",
      "sum_duration    470.28   260.71     67971.34\n",
      "messages_sum     42.65    40.33      1626.43\n",
      "sum_mb_used   18402.85  9384.22  88063539.12\n",
      "income         1954.94    60.24      3628.55\n",
      "-----------------------------------------------\n",
      "\n",
      "ТАРИФ Smart:\n",
      "                  mean      std     variance\n",
      "sum_duration    415.61   186.72     67971.34\n",
      "messages_sum     33.35    28.23      1626.43\n",
      "sum_mb_used   16197.66  5862.25  88063539.12\n",
      "income         1285.45   802.18      3628.55\n",
      "-----------------------------------------------\n"
     ]
    }
   ],
   "source": [
    "spisok=['sum_duration','messages_sum','sum_mb_used','income']\n",
    "\n",
    "print('ТАРИФ Ultra:')\n",
    "df1 = data_tar_u[spisok].describe().T[['mean', 'std']].round(2)\n",
    "df1['variance'] = data_tar_u.var().round(2)\n",
    "print(df1)\n",
    "print('-----------------------------------------------\\n')\n",
    "\n",
    "print('ТАРИФ Smart:')\n",
    "df2 = data_tar_s[spisok].describe().T[['mean', 'std']].round(2)\n",
    "df2['variance'] = data_tar_u.var().round(2)\n",
    "print(df2)\n",
    "print('-----------------------------------------------')"
   ]
  },
  {
   "cell_type": "markdown",
   "metadata": {},
   "source": [
    "Построим гафики для большей наглядности и посмотрим на распределения:"
   ]
  },
  {
   "cell_type": "code",
   "execution_count": 22,
   "metadata": {},
   "outputs": [],
   "source": [
    "def graf(col):\n",
    "    ax = data_tar_u.plot(kind='hist', y=col, histtype='step', bins=50, linewidth=1, label='ultra')\n",
    "    data_tar_s.plot(kind='hist', y=col, histtype='step', bins=50, linewidth=1, label='smart', ax=ax, grid=True, legend=True)"
   ]
  },
  {
   "cell_type": "code",
   "execution_count": 23,
   "metadata": {},
   "outputs": [
    {
     "data": {
      "image/png": "[encoded data removed]",
      "text/plain": [
       "<Figure size 720x432 with 1 Axes>"
      ]
     },
     "metadata": {
      "needs_background": "light"
     },
     "output_type": "display_data"
    },
    {
     "data": {
      "image/png": "[encoded data removed]",
      "text/plain": [
       "<Figure size 720x432 with 1 Axes>"
      ]
     },
     "metadata": {
      "needs_background": "light"
     },
     "output_type": "display_data"
    },
    {
     "data": {
      "image/png": "[encoded data removed]",
      "text/plain": [
       "<Figure size 720x432 with 1 Axes>"
      ]
     },
     "metadata": {
      "needs_background": "light"
     },
     "output_type": "display_data"
    },
    {
     "data": {
      "image/png": "[encoded data removed]",
      "text/plain": [
       "<Figure size 720x432 with 1 Axes>"
      ]
     },
     "metadata": {
      "needs_background": "light"
     },
     "output_type": "display_data"
    }
   ],
   "source": [
    "for i in spisok:\n",
    "    graf(i)"
   ]
  },
  {
   "cell_type": "markdown",
   "metadata": {},
   "source": [
    "<b>Вывод:</b>\n",
    "\n",
    "Видно, что клиентам, использущим тариф Smart в среднем хватает включенных в абонентскую плату звонков и смс, а за дополнительный интернет-трафик приходится периодически доплачивать. Возможно, это всязано с тем, что большинство клиентов переключается на звонки и смс через мессенджеры, а значит используют интернет.\n",
    "Пользователи тарифа Ultra редко доплачивают за дополнительные услуги, им хватает того, что включено в абонентскую плату, при этом остается достаточно приличный неизрасходованный запас.\n",
    "\n",
    "В целом можно сказать, что люди примерно одинаково тратят в месяц минут, смс и трафика на обоих тарифах, однако для бизнеса выгоднее продавать тариф Ultra, поскольку (даже с учетом всех доплат по Smart) выручка с него значительно выше."
   ]
  },
  {
   "cell_type": "markdown",
   "metadata": {},
   "source": [
    "<b>4. Проверка гипотез:<a id='#step4'></a></b>\n",
    "\n",
    "<b> 4.1. Гипотеза 1:</b>\n",
    "\n",
    "\n",
    "Нулевая гипотеза будет звучать так:\n",
    "Средняя выручка пользователей тарифов «Ультра» и «Смарт» равны;\n",
    "\n",
    "Тогда альтернативная гипотеза будет звучать следующим образом: \n",
    "Средняя выручка пользователей тарифов «Ультра» и «Смарт» различается;"
   ]
  },
  {
   "cell_type": "code",
   "execution_count": 24,
   "metadata": {},
   "outputs": [
    {
     "name": "stdout",
     "output_type": "stream",
     "text": [
      "p-значение: [1.30272678e-119]\n",
      "Отвергаем нулевую гипотезу\n"
     ]
    }
   ],
   "source": [
    "smart = data_tar_s[['income']]\n",
    "ultra = data_tar_u[['income']]\n",
    "\n",
    "# Критический уровень статистической значимости. Если p-value будет меньше него, нужно отвергнуть гипотезу\n",
    "alpha = 0.05 \n",
    "\n",
    "# Проверка гипотезы о равенстве средних двух совокупностей\n",
    "results = st.ttest_ind(ultra, smart)    \n",
    "\n",
    "print('p-значение:', results.pvalue)\n",
    "\n",
    "if results.pvalue < alpha:\n",
    "    print(\"Отвергаем нулевую гипотезу\")\n",
    "else:\n",
    "    print(\"Не получилось отвергнуть нулевую гипотезу\")\n"
   ]
  },
  {
   "cell_type": "markdown",
   "metadata": {},
   "source": [
    "<b> 4.1. Гипотеза 2:</b>\n",
    "\n",
    "Нулевая гипотеза будет звучать так: Средняя выручка пользователей из Москвы равна выручке пользователей из других регионов;\n",
    "\n",
    "Тогда альтернативная гипотеза будет звучать следующим образом: Средняя выручка пользователей из Москвы отличается от выручки пользователей из других регионов;"
   ]
  },
  {
   "cell_type": "code",
   "execution_count": 25,
   "metadata": {},
   "outputs": [
    {
     "name": "stdout",
     "output_type": "stream",
     "text": [
      "p-значение: 0.198129\n",
      "Не получилось отвергнуть нулевую гипотезу\n"
     ]
    }
   ],
   "source": [
    "moscow = data_tar_s.query('city == \"Москва\"')['income']\n",
    "other = data_tar_s.query('city != \"Москва\"')['income']\n",
    "\n",
    "#print(moscow)\n",
    "#print(other)\n",
    "\n",
    "# Критический уровень статистической значимости. Если p-value будет меньше него, нужно отвергнуть гипотезу\n",
    "alpha = 0.05 \n",
    "\n",
    "# Проверка гипотезы о равенстве средних двух совокупностей\n",
    "results = st.ttest_ind(other, moscow)    \n",
    "\n",
    "print('p-значение:', round(results.pvalue,6))\n",
    "if results.pvalue < alpha:\n",
    "    print(\"Отвергаем нулевую гипотезу\")\n",
    "else:\n",
    "    print(\"Не получилось отвергнуть нулевую гипотезу\")"
   ]
  },
  {
   "cell_type": "markdown",
   "metadata": {},
   "source": [
    "Не получилось опровергнуть нулевую гипотезу. Полученное значение p-value говорит о том, что хотя средняя выручка по регионам и Москве не одинакова, с вероятностью в почти 20% такое различие можно получить случайно. В выборку из Москву попало лишь 385 клиентов, в остальных городах 1838. На мой взгляд, выборка по Москве мала, чтобы делать вывод о значимом различии между средней выручкой, поскольку отклонение может быть велико."
   ]
  },
  {
   "cell_type": "markdown",
   "metadata": {},
   "source": [
    "<b> 5. Общий вывод: <a id='#step5'></a></b>\n",
    "\n",
    "Средняя выручка пользователей тарифов «Ультра» и «Смарт» различается;\n",
    "средняя выручка пользователей из Москвы отличается от выручки пользователей из других регионов;\n",
    "Итоговый вывод:\n",
    "\n",
    "Клиенты, использующие тариф Смарт тратят несколько меньше минут, смс и трафика в месяц, чем пользователи тарифа Ультра. Но значения примерно равны. Таким образом видно, что клиенты Ультры в среднем сильно переплачивают.\n",
    "Если смотреть распределение по регионам пользователей, то средняя выручка по другим регионам выше, чем в Москве.\n",
    "\n",
    "С точки зрения аналитики, очевидно, что Телеком-компания хорошо изучила потребности клиентов, предоставив большинству удобный тариф Смарт с понятной оплатой, а клиентам, желающим чувствовать себя \"выше среднего\" предоставила Ультру, и есть те, кто готов переплачивать. А возможно клиенты просто не знают об этой переплате. \n",
    "\n",
    "Для выбора варианта изменений нужны дополнительные данные и анализ. Ведь не всегда большая выручка говорит о большей доходности, нужно учитывать затраты, поведение и количество клиентов и массу других факторов. Возможны корректровки абонентской платы, лимитов, стоимости экстра услуг, а также различные рекламные компании в разных регионах.\n",
    "\n",
    "Таким образом, тариф Ultra более прибылен, нежели Smart, если ориентироваться на текущую ситуацию и выручку."
   ]
  }
 ],
 "metadata": {
  "kernelspec": {
   "display_name": "Python 3",
   "language": "python",
   "name": "python3"
  },
  "language_info": {
   "codemirror_mode": {
    "name": "ipython",
    "version": 3
   },
   "file_extension": ".py",
   "mimetype": "text/x-python",
   "name": "python",
   "nbconvert_exporter": "python",
   "pygments_lexer": "ipython3",
   "version": "3.8.5"
  },
  "toc": {
   "base_numbering": 1,
   "nav_menu": {},
   "number_sections": true,
   "sideBar": true,
   "skip_h1_title": false,
   "title_cell": "Table of Contents",
   "title_sidebar": "Contents",
   "toc_cell": false,
   "toc_position": {},
   "toc_section_display": true,
   "toc_window_display": false
  }
 },
 "nbformat": 4,
 "nbformat_minor": 2
}
