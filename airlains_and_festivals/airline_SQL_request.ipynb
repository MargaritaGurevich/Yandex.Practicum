{
 "cells": [
  {
   "cell_type": "markdown",
   "metadata": {},
   "source": [
    "1. Изучите таблицу airports и выведите список городов (city), в которых есть аэропорты.\n",
    "\n",
    "\n",
    "2. Изучите таблицу flights и подсчитайте количество вылетов (flight_id) из каждого аэропорта вылета (departure_airport). Назовите переменную cnt_flights и выведите её вместе со столбцом departure_airport — сначала departure_airport, потом cnt_flights. Результат отсортируйте в порядке убывания количества вылетов.\n",
    "\n",
    "\n",
    "3. Найдите количество рейсов на каждой модели самолёта с вылетом в сентябре 2018 года. Назовите получившийся столбец flights_amount и выведите его, также выведите столбец model. Столбцы выводите в таком порядке:\n",
    "* model\n",
    "* flights_amount\n",
    "\n",
    "\n",
    "4. Посчитайте количество рейсов по всем моделям самолётов Boeing, Airbus и другим ('other') в сентябре. Типы моделей поместите в столбец type_aircraft, а количество рейсов — во flights_amount. Выведите их на экран.\n",
    "\n",
    "\n",
    "5. Посчитайте среднее количество прибывающих рейсов в день для каждого города за август 2018 года. Назовите получившееся поле average_flights, вместе с ним выведите столбец city. Выводите столбцы в таком порядке:\n",
    "* city\n",
    "* average_flights\n",
    "\n",
    "\n",
    "6. Установите фестивали, которые проходили с 23 июля по 30 сентября 2018 года в Москве, и номер недели, в которую они проходили. Выведите название фестиваля festival_name и номер недели festival_week.\n",
    "\n",
    "\n",
    "7. Для каждой недели с 23 июля по 30 сентября 2018 года посчитайте количество билетов, купленных на рейсы в Москву (номер недели week_number и количество билетов ticket_amount). Получите таблицу, в которой будет информация о количестве купленных за неделю билетов; отметка, проходил ли в эту неделю фестиваль; название фестиваля festival_name и номер недели week_number. Выводите столбцы в таком порядке: \n",
    "- week_number\n",
    "- ticket_amount\n",
    "- festival_week\n",
    "- festival_name"
   ]
  },
  {
   "cell_type": "code",
   "execution_count": 1,
   "metadata": {},
   "outputs": [
    {
     "data": {
      "text/plain": [
       "\"SELECT\\n    SBQ.week_number,\\n    SBQ.ticket_amount,\\n    SBQ1.festival_week,\\n    SBQ1.festival_name\\nFROM\\n    (SELECT\\n        EXTRACT (week FROM flights.departure_time) AS week_number,\\n        COUNT(ticket_flights.ticket_no) AS ticket_amount\\n    FROM\\n        ticket_flights\\n    LEFT JOIN flights ON flights.flight_id=ticket_flights.flight_id\\n    LEFT JOIN airports ON airports.airport_code = flights.arrival_airport \\n     \\n    WHERE\\n         CAST(flights.departure_time AS date) BETWEEN '2018-07-23' AND '2018-09-30'\\n         AND (airports.city = 'Москва')\\n    GROUP BY\\n        EXTRACT (week FROM flights.departure_time)) AS SBQ\\nLEFT JOIN\\n    (SELECT \\n            festival_name,\\n            EXTRACT (week FROM festivals.festival_date) AS festival_week\\n    FROM \\n            festivals\\n    WHERE \\n        festival_city = 'Москва' AND\\n        CAST(festivals.festival_date AS date) BETWEEN '2018-07-23' AND '2018-09-30' ) AS SBQ1\\nON\\n    SBQ.week_number=SBQ1.festival_week;\""
      ]
     },
     "execution_count": 1,
     "metadata": {},
     "output_type": "execute_result"
    }
   ],
   "source": [
    "#код без вывода результата\n",
    "'''SELECT\n",
    "    SBQ.week_number,\n",
    "    SBQ.ticket_amount,\n",
    "    SBQ1.festival_week,\n",
    "    SBQ1.festival_name\n",
    "FROM\n",
    "    (SELECT\n",
    "        EXTRACT (week FROM flights.departure_time) AS week_number,\n",
    "        COUNT(ticket_flights.ticket_no) AS ticket_amount\n",
    "    FROM\n",
    "        ticket_flights\n",
    "    LEFT JOIN flights ON flights.flight_id=ticket_flights.flight_id\n",
    "    LEFT JOIN airports ON airports.airport_code = flights.arrival_airport \n",
    "     \n",
    "    WHERE\n",
    "         CAST(flights.departure_time AS date) BETWEEN '2018-07-23' AND '2018-09-30'\n",
    "         AND (airports.city = 'Москва')\n",
    "    GROUP BY\n",
    "        EXTRACT (week FROM flights.departure_time)) AS SBQ\n",
    "LEFT JOIN\n",
    "    (SELECT \n",
    "            festival_name,\n",
    "            EXTRACT (week FROM festivals.festival_date) AS festival_week\n",
    "    FROM \n",
    "            festivals\n",
    "    WHERE \n",
    "        festival_city = 'Москва' AND\n",
    "        CAST(festivals.festival_date AS date) BETWEEN '2018-07-23' AND '2018-09-30' ) AS SBQ1\n",
    "ON\n",
    "    SBQ.week_number=SBQ1.festival_week;'''"
   ]
  }
 ],
 "metadata": {
  "kernelspec": {
   "display_name": "Python 3",
   "language": "python",
   "name": "python3"
  },
  "language_info": {
   "codemirror_mode": {
    "name": "ipython",
    "version": 3
   },
   "file_extension": ".py",
   "mimetype": "text/x-python",
   "name": "python",
   "nbconvert_exporter": "python",
   "pygments_lexer": "ipython3",
   "version": "3.8.5"
  }
 },
 "nbformat": 4,
 "nbformat_minor": 4
}
