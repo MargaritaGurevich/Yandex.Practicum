{
 "cells": [
  {
   "cell_type": "markdown",
   "metadata": {},
   "source": [
    "## Исследование продаж компьтерных игр для интернет-магазина «Стримчик»"
   ]
  },
  {
   "cell_type": "markdown",
   "metadata": {},
   "source": [
    "**Бизнес-задача от интернет-магазина компьютерных игр:** выявить закономерности, определяющие усешность компьютерной игры для планирования рекламных кампаний на основе исторических данных из открытых источников о продажах игр, оценки пользователей и экспертов, жанры и платформы. В исследовании использованы данные до 2016 года для рекламной кампании на 2017 год. \n",
    "\n",
    "Цель исследования - создать систему, подходящую для любого актуального временного диапазона."
   ]
  },
  {
   "cell_type": "markdown",
   "metadata": {},
   "source": [
    "Содержание:\n",
    "1. [Получение данных и изучение общей информации.](##step1)  \n",
    "2. [Подготовка данных.](##step2)\n",
    "3. [Исследовательский анализ данных.](##step3)\n",
    "4. [Портрет пользователя каждого региона.](##step4)\n",
    "5. [Проверка гипотез.](##step5)\n",
    "6. [Окончательные выводы.](##step6)\n"
   ]
  },
  {
   "cell_type": "markdown",
   "metadata": {},
   "source": [
    "Имеющиеся данные:\n",
    "\n",
    "- Name — название игры\n",
    "- Platform — платформа\n",
    "- Year_of_Release — год выпуска\n",
    "- Genre — жанр игры\n",
    "- NA_sales — продажи в Северной Америке (миллионы проданных копий)\n",
    "- EU_sales — продажи в Европе (миллионы проданных копий)\n",
    "- JP_sales — продажи в Японии (миллионы проданных копий)\n",
    "- Other_sales — продажи в других странах (миллионы проданных копий)\n",
    "- Critic_Score — оценка критиков (0-100)\n",
    "- User_Score — оценка пользователей (0-10)\n",
    "- Rating — рейтинг от организации ESRB (англ. Entertainment Software Rating Board). Эта ассоциация определяет рейтинг компьютерных игр и присваивает им подходящую возрастную категорию."
   ]
  },
  {
   "cell_type": "markdown",
   "metadata": {},
   "source": [
    "## 1. Получение данных и изучение общей информации. <a id='#step1'></a>"
   ]
  },
  {
   "cell_type": "code",
   "execution_count": 1,
   "metadata": {},
   "outputs": [],
   "source": [
    "import pandas as pd\n",
    "import numpy as np\n",
    "from datetime import datetime, timedelta\n",
    "import seaborn as sns\n",
    "import math as mt\n",
    "from scipy import stats as st\n",
    "import matplotlib.pyplot as plt\n",
    "import matplotlib.mlab as mlab\n",
    "import matplotlib\n",
    "from matplotlib import pyplot as plt\n",
    "from math import factorial\n",
    "from scipy.stats import norm\n",
    "from matplotlib.pyplot import figure\n",
    "%matplotlib inline\n",
    "matplotlib.rcParams['figure.figsize'] = (10,6)\n",
    "pd.options.mode.chained_assignment = None"
   ]
  },
  {
   "cell_type": "code",
   "execution_count": 2,
   "metadata": {},
   "outputs": [
    {
     "data": {
      "text/html": [
       "<div>\n",
       "<style scoped>\n",
       "    .dataframe tbody tr th:only-of-type {\n",
       "        vertical-align: middle;\n",
       "    }\n",
       "\n",
       "    .dataframe tbody tr th {\n",
       "        vertical-align: top;\n",
       "    }\n",
       "\n",
       "    .dataframe thead th {\n",
       "        text-align: right;\n",
       "    }\n",
       "</style>\n",
       "<table border=\"1\" class=\"dataframe\">\n",
       "  <thead>\n",
       "    <tr style=\"text-align: right;\">\n",
       "      <th></th>\n",
       "      <th>Name</th>\n",
       "      <th>Platform</th>\n",
       "      <th>Year_of_Release</th>\n",
       "      <th>Genre</th>\n",
       "      <th>NA_sales</th>\n",
       "      <th>EU_sales</th>\n",
       "      <th>JP_sales</th>\n",
       "      <th>Other_sales</th>\n",
       "      <th>Critic_Score</th>\n",
       "      <th>User_Score</th>\n",
       "      <th>Rating</th>\n",
       "    </tr>\n",
       "  </thead>\n",
       "  <tbody>\n",
       "    <tr>\n",
       "      <td>0</td>\n",
       "      <td>Wii Sports</td>\n",
       "      <td>Wii</td>\n",
       "      <td>2006.0</td>\n",
       "      <td>Sports</td>\n",
       "      <td>41.36</td>\n",
       "      <td>28.96</td>\n",
       "      <td>3.77</td>\n",
       "      <td>8.45</td>\n",
       "      <td>76.0</td>\n",
       "      <td>8</td>\n",
       "      <td>E</td>\n",
       "    </tr>\n",
       "    <tr>\n",
       "      <td>1</td>\n",
       "      <td>Super Mario Bros.</td>\n",
       "      <td>NES</td>\n",
       "      <td>1985.0</td>\n",
       "      <td>Platform</td>\n",
       "      <td>29.08</td>\n",
       "      <td>3.58</td>\n",
       "      <td>6.81</td>\n",
       "      <td>0.77</td>\n",
       "      <td>NaN</td>\n",
       "      <td>NaN</td>\n",
       "      <td>NaN</td>\n",
       "    </tr>\n",
       "    <tr>\n",
       "      <td>2</td>\n",
       "      <td>Mario Kart Wii</td>\n",
       "      <td>Wii</td>\n",
       "      <td>2008.0</td>\n",
       "      <td>Racing</td>\n",
       "      <td>15.68</td>\n",
       "      <td>12.76</td>\n",
       "      <td>3.79</td>\n",
       "      <td>3.29</td>\n",
       "      <td>82.0</td>\n",
       "      <td>8.3</td>\n",
       "      <td>E</td>\n",
       "    </tr>\n",
       "  </tbody>\n",
       "</table>\n",
       "</div>"
      ],
      "text/plain": [
       "                Name Platform  Year_of_Release     Genre  NA_sales  EU_sales  \\\n",
       "0         Wii Sports      Wii           2006.0    Sports     41.36     28.96   \n",
       "1  Super Mario Bros.      NES           1985.0  Platform     29.08      3.58   \n",
       "2     Mario Kart Wii      Wii           2008.0    Racing     15.68     12.76   \n",
       "\n",
       "   JP_sales  Other_sales  Critic_Score User_Score Rating  \n",
       "0      3.77         8.45          76.0          8      E  \n",
       "1      6.81         0.77           NaN        NaN    NaN  \n",
       "2      3.79         3.29          82.0        8.3      E  "
      ]
     },
     "metadata": {},
     "output_type": "display_data"
    },
    {
     "name": "stdout",
     "output_type": "stream",
     "text": [
      "<class 'pandas.core.frame.DataFrame'>\n",
      "RangeIndex: 16715 entries, 0 to 16714\n",
      "Data columns (total 11 columns):\n",
      "Name               16713 non-null object\n",
      "Platform           16715 non-null object\n",
      "Year_of_Release    16446 non-null float64\n",
      "Genre              16713 non-null object\n",
      "NA_sales           16715 non-null float64\n",
      "EU_sales           16715 non-null float64\n",
      "JP_sales           16715 non-null float64\n",
      "Other_sales        16715 non-null float64\n",
      "Critic_Score       8137 non-null float64\n",
      "User_Score         10014 non-null object\n",
      "Rating             9949 non-null object\n",
      "dtypes: float64(6), object(5)\n",
      "memory usage: 1.4+ MB\n"
     ]
    }
   ],
   "source": [
    "df = pd.read_csv('/datasets/games.csv')#, sep=\"\\t\")\n",
    "display(df.head(3))\n",
    "df.info()"
   ]
  },
  {
   "cell_type": "markdown",
   "metadata": {},
   "source": [
    "Вывод:\n",
    "\n",
    "На входе имеем таблицу с 11 столбцами и 16715 строками. В последних трех столбцах очень много пропусков (более половины). Названия столбцов необходимо привести к единому типу, т.к. сейчас они в разном регистре. Также необходимо поменять типы данных в столбцах Year_of_Release  User_Score. Подготовим данные для дальнейшего анализа:"
   ]
  },
  {
   "cell_type": "markdown",
   "metadata": {},
   "source": [
    "## 2. Подготовка данных. <a id='#step1'></a>"
   ]
  },
  {
   "cell_type": "code",
   "execution_count": 3,
   "metadata": {},
   "outputs": [
    {
     "data": {
      "text/plain": [
       "Index(['name', 'platform', 'year_of_release', 'genre', 'na_sales', 'eu_sales',\n",
       "       'jp_sales', 'other_sales', 'critic_score', 'user_score', 'rating'],\n",
       "      dtype='object')"
      ]
     },
     "execution_count": 3,
     "metadata": {},
     "output_type": "execute_result"
    }
   ],
   "source": [
    "#Приведем названия столбцов к нижнему регистру\n",
    "df.columns = map(str.lower, df.columns)\n",
    "df.columns"
   ]
  },
  {
   "cell_type": "markdown",
   "metadata": {},
   "source": [
    "Сразу удалим из таблицы строки, где не указаны названия игр."
   ]
  },
  {
   "cell_type": "code",
   "execution_count": 4,
   "metadata": {},
   "outputs": [
    {
     "name": "stdout",
     "output_type": "stream",
     "text": [
      "<class 'pandas.core.frame.DataFrame'>\n",
      "Int64Index: 16713 entries, 0 to 16714\n",
      "Data columns (total 11 columns):\n",
      "name               16713 non-null object\n",
      "platform           16713 non-null object\n",
      "year_of_release    16444 non-null float64\n",
      "genre              16713 non-null object\n",
      "na_sales           16713 non-null float64\n",
      "eu_sales           16713 non-null float64\n",
      "jp_sales           16713 non-null float64\n",
      "other_sales        16713 non-null float64\n",
      "critic_score       8137 non-null float64\n",
      "user_score         10014 non-null object\n",
      "rating             9949 non-null object\n",
      "dtypes: float64(6), object(5)\n",
      "memory usage: 1.5+ MB\n"
     ]
    }
   ],
   "source": [
    "#удалим из таблицы строки, где нет названий\n",
    "df['name'] = df['name'].fillna(0)\n",
    "df = df.query('name != 0')\n",
    "df.info()"
   ]
  },
  {
   "cell_type": "markdown",
   "metadata": {},
   "source": [
    "Заменим типы данных: 'year_of_release' приведем к целочисленному, а 'user_score' к float. Для этого напишем функции. Также сразу напишем функцию для заполнения пропусков:"
   ]
  },
  {
   "cell_type": "code",
   "execution_count": 5,
   "metadata": {},
   "outputs": [],
   "source": [
    "#функция изменения типа\n",
    "def change_type(col, new_type):\n",
    "    df[col]= df[col].astype(new_type)\n",
    "    \n",
    "#функция заполнения пропусков\n",
    "def fill(col1, val):\n",
    "    df[col1] = df[col1].fillna(val)\n",
    "\n",
    "#функция перевода строк в числа\n",
    "def to_numb(col2):\n",
    "    df[col2] = pd.to_numeric(df[col2], errors = 'coerce')"
   ]
  },
  {
   "cell_type": "markdown",
   "metadata": {},
   "source": [
    "В столбце год релиза есть пропуски. Заполним их до изменения типа данных. Если изучить их внимательнее, то можно заметить, что наименование многих игр встречается несколько раз, и в некоторых одно из значений ненулевое. Также, можно заметить, что релиз был на разных платформах. Таким образом наиболее близко к реальности будет заменить пропуски в таких позициях на дату релиза единственным заполненным значением. Для этого проще всего сгруппировать игры по названию и заполнить минимальным значением в этой группе. Выполним это:"
   ]
  },
  {
   "cell_type": "code",
   "execution_count": 6,
   "metadata": {},
   "outputs": [
    {
     "name": "stdout",
     "output_type": "stream",
     "text": [
      "2006.4862563853078\n",
      "2006.4885615983583\n",
      "----------------\n",
      "Строк с незаполненным годом выпуска: 146\n"
     ]
    }
   ],
   "source": [
    "#заполним пропуски и проверим с помощью среднего значения по столбцу работу функции\n",
    "print(df['year_of_release'].mean())\n",
    "df['year_of_release'] = df['year_of_release'].fillna(df.groupby('name')['year_of_release'].transform('min'))\n",
    "print(df['year_of_release'].mean())\n",
    "\n",
    "fill('year_of_release', 0)\n",
    "change_type('year_of_release', 'int')\n",
    "print('----------------')\n",
    "\n",
    "#проверим сколько осталось незаполненных строк\n",
    "test = df.query('year_of_release == 0')\n",
    "print('Строк с незаполненным годом выпуска:', len(test))"
   ]
  },
  {
   "cell_type": "markdown",
   "metadata": {},
   "source": [
    "Незаполненых строк осталось 146 шт. Удалим их."
   ]
  },
  {
   "cell_type": "code",
   "execution_count": 7,
   "metadata": {},
   "outputs": [
    {
     "name": "stdout",
     "output_type": "stream",
     "text": [
      "<class 'pandas.core.frame.DataFrame'>\n",
      "Int64Index: 16567 entries, 0 to 16714\n",
      "Data columns (total 11 columns):\n",
      "name               16567 non-null object\n",
      "platform           16567 non-null object\n",
      "year_of_release    16567 non-null int64\n",
      "genre              16567 non-null object\n",
      "na_sales           16567 non-null float64\n",
      "eu_sales           16567 non-null float64\n",
      "jp_sales           16567 non-null float64\n",
      "other_sales        16567 non-null float64\n",
      "critic_score       8075 non-null float64\n",
      "user_score         9934 non-null object\n",
      "rating             9868 non-null object\n",
      "dtypes: float64(5), int64(1), object(5)\n",
      "memory usage: 1.5+ MB\n"
     ]
    }
   ],
   "source": [
    "df = df.query('year_of_release != 0')\n",
    "df.info()"
   ]
  },
  {
   "cell_type": "markdown",
   "metadata": {},
   "source": [
    "Построим тепловую карту, чтобы нaглядно оценить оставшиеся пропуски:"
   ]
  },
  {
   "cell_type": "code",
   "execution_count": 8,
   "metadata": {},
   "outputs": [
    {
     "data": {
      "image/png": "[encoded data removed]",
      "text/plain": [
       "<Figure size 504x504 with 2 Axes>"
      ]
     },
     "metadata": {
      "needs_background": "light"
     },
     "output_type": "display_data"
    }
   ],
   "source": [
    "plt.figure(figsize=(7,7))\n",
    "sns.heatmap(df.isnull()).set_title;"
   ]
  },
  {
   "cell_type": "markdown",
   "metadata": {},
   "source": [
    "Пропуски остались в трех последних столбцах, проанализируем их."
   ]
  },
  {
   "cell_type": "markdown",
   "metadata": {},
   "source": [
    "Видим, что пропуски в последних трех столбцах коррелируют друг с другом, а больше всего их с столбце с оценками критиков. А из .info видно, что таких строк в таблице в столбеце \"rating\" более половины. Entertainment Software Rating Board (ESRB) — негосударственная организация, присваивающая категорию компьютерной игре, была основана в 1994 году. Возникает версия, что игры выпущенные до этого года не могли пройти сертификацию. Однако если игра существовала и после 1994 года, то могла быть сертифицирована и после выхода. \n",
    "Проверим ниже версию, что незаполненными в столбце 'rating' являются игры, выпущеные до 1994г."
   ]
  },
  {
   "cell_type": "code",
   "execution_count": 9,
   "metadata": {},
   "outputs": [
    {
     "name": "stdout",
     "output_type": "stream",
     "text": [
      "Максимальный год выпуска игры без категории: 2016\n"
     ]
    }
   ],
   "source": [
    "#заполним пропуски значением 'unknown'\n",
    "fill('rating', 'unknown')\n",
    "unknown = df.query('rating == \"unknown\"')\n",
    "print('Максимальный год выпуска игры без категории:',unknown['year_of_release'].max())\n",
    "#df.info()"
   ]
  },
  {
   "cell_type": "markdown",
   "metadata": {},
   "source": [
    "Версия не подтвердилась. Следовательно модифицировать таблицу по этому принципу не будем.\n",
    "\n",
    "Проанализируем взаимосвязь категории с названием и платформой, на которой выпущена игра. Сгруппировав данные по платформам и проанализировав те, по которым отсутствует категория, получим следующий список с годами выпуска (информация из википедии и других интернет-ресурсов):\n",
    "\n",
    "- Atari 2600 -прекращение официальной поддержки 1.01.1992г.\n",
    "- 3DO Interactive Multiplayer - игровая приставка, выпускавшаяся до 1996г.\n",
    "- DC - по сей день\n",
    "- GB - по сей день\n",
    "- GEN - по сей день\n",
    "- GG - по сей день\n",
    "- N64 - по сей день, приставка\n",
    "- NES - приставка, выпуск до октября 2003 года. Окончание сервиса - 2007г.\n",
    "- PCFX - по сей день\n",
    "- SAT - по сей день\n",
    "- SCD - по сей день\n",
    "- SNES - по сей день.\n",
    "- TG16 - по сей день.\n",
    "- WS - по сей день\n",
    "\n",
    "Итак, видим, что большинство платформ поддерживаются по сей день, при этом не имеют присвоенной возрастной категории. \n",
    "\n",
    "Возможно найдутся такие игры, где заполнено одно значение и не заполнены остальные. проверим эту версию и в случае удачи скопируем это значение на остальные платформы:"
   ]
  },
  {
   "cell_type": "code",
   "execution_count": 10,
   "metadata": {},
   "outputs": [
    {
     "name": "stdout",
     "output_type": "stream",
     "text": [
      "platform\n",
      "2600     117\n",
      "3DO        3\n",
      "3DS      515\n",
      "DC        52\n",
      "DS      2129\n",
      "GB        97\n",
      "GBA      813\n",
      "GC       552\n",
      "GEN       27\n",
      "GG         1\n",
      "N64      318\n",
      "NES       98\n",
      "NG        12\n",
      "PC       970\n",
      "PCFX       1\n",
      "PS      1190\n",
      "PS2     2140\n",
      "PS3     1320\n",
      "PS4      392\n",
      "PSP     1203\n",
      "PSV      429\n",
      "SAT      173\n",
      "SCD        6\n",
      "SNES     239\n",
      "TG16       2\n",
      "WS         6\n",
      "Wii     1301\n",
      "WiiU     147\n",
      "X360    1250\n",
      "XB       817\n",
      "XOne     247\n",
      "Name: rating, dtype: int64\n"
     ]
    },
    {
     "data": {
      "text/html": [
       "<div>\n",
       "<style scoped>\n",
       "    .dataframe tbody tr th:only-of-type {\n",
       "        vertical-align: middle;\n",
       "    }\n",
       "\n",
       "    .dataframe tbody tr th {\n",
       "        vertical-align: top;\n",
       "    }\n",
       "\n",
       "    .dataframe thead tr th {\n",
       "        text-align: left;\n",
       "    }\n",
       "</style>\n",
       "<table border=\"1\" class=\"dataframe\">\n",
       "  <thead>\n",
       "    <tr>\n",
       "      <th></th>\n",
       "      <th>name</th>\n",
       "      <th>platform</th>\n",
       "      <th>year_of_release</th>\n",
       "      <th>genre</th>\n",
       "      <th>rating</th>\n",
       "      <th>sum</th>\n",
       "    </tr>\n",
       "    <tr>\n",
       "      <th></th>\n",
       "      <th></th>\n",
       "      <th></th>\n",
       "      <th></th>\n",
       "      <th></th>\n",
       "      <th></th>\n",
       "      <th>na_sales</th>\n",
       "    </tr>\n",
       "  </thead>\n",
       "  <tbody>\n",
       "    <tr>\n",
       "      <td>0</td>\n",
       "      <td>Beyblade Burst</td>\n",
       "      <td>3DS</td>\n",
       "      <td>2016</td>\n",
       "      <td>Role-Playing</td>\n",
       "      <td>unknown</td>\n",
       "      <td>0.00</td>\n",
       "    </tr>\n",
       "    <tr>\n",
       "      <td>1</td>\n",
       "      <td>Fire Emblem Fates</td>\n",
       "      <td>3DS</td>\n",
       "      <td>2015</td>\n",
       "      <td>Role-Playing</td>\n",
       "      <td>unknown</td>\n",
       "      <td>0.81</td>\n",
       "    </tr>\n",
       "    <tr>\n",
       "      <td>2</td>\n",
       "      <td>Frozen: Olaf's Quest</td>\n",
       "      <td>3DS</td>\n",
       "      <td>2013</td>\n",
       "      <td>Platform</td>\n",
       "      <td>unknown</td>\n",
       "      <td>0.27</td>\n",
       "    </tr>\n",
       "    <tr>\n",
       "      <td>3</td>\n",
       "      <td>Frozen: Olaf's Quest</td>\n",
       "      <td>DS</td>\n",
       "      <td>2013</td>\n",
       "      <td>Platform</td>\n",
       "      <td>unknown</td>\n",
       "      <td>0.21</td>\n",
       "    </tr>\n",
       "    <tr>\n",
       "      <td>4</td>\n",
       "      <td>Haikyu!! Cross Team Match!</td>\n",
       "      <td>3DS</td>\n",
       "      <td>2016</td>\n",
       "      <td>Adventure</td>\n",
       "      <td>unknown</td>\n",
       "      <td>0.00</td>\n",
       "    </tr>\n",
       "    <tr>\n",
       "      <td>5</td>\n",
       "      <td>Tales of Xillia 2</td>\n",
       "      <td>PS3</td>\n",
       "      <td>2012</td>\n",
       "      <td>Role-Playing</td>\n",
       "      <td>T</td>\n",
       "      <td>0.20</td>\n",
       "    </tr>\n",
       "    <tr>\n",
       "      <td>6</td>\n",
       "      <td>'98 Koshien</td>\n",
       "      <td>PS</td>\n",
       "      <td>1998</td>\n",
       "      <td>Sports</td>\n",
       "      <td>unknown</td>\n",
       "      <td>0.15</td>\n",
       "    </tr>\n",
       "    <tr>\n",
       "      <td>7</td>\n",
       "      <td>.hack//G.U. Vol.1//Rebirth</td>\n",
       "      <td>PS2</td>\n",
       "      <td>2006</td>\n",
       "      <td>Role-Playing</td>\n",
       "      <td>unknown</td>\n",
       "      <td>0.00</td>\n",
       "    </tr>\n",
       "    <tr>\n",
       "      <td>8</td>\n",
       "      <td>.hack//G.U. Vol.2//Reminisce</td>\n",
       "      <td>PS2</td>\n",
       "      <td>2006</td>\n",
       "      <td>Role-Playing</td>\n",
       "      <td>unknown</td>\n",
       "      <td>0.11</td>\n",
       "    </tr>\n",
       "    <tr>\n",
       "      <td>9</td>\n",
       "      <td>.hack//G.U. Vol.2//Reminisce (jp sales)</td>\n",
       "      <td>PS2</td>\n",
       "      <td>2006</td>\n",
       "      <td>Role-Playing</td>\n",
       "      <td>unknown</td>\n",
       "      <td>0.00</td>\n",
       "    </tr>\n",
       "    <tr>\n",
       "      <td>10</td>\n",
       "      <td>.hack//G.U. Vol.3//Redemption</td>\n",
       "      <td>PS2</td>\n",
       "      <td>2007</td>\n",
       "      <td>Role-Playing</td>\n",
       "      <td>unknown</td>\n",
       "      <td>0.00</td>\n",
       "    </tr>\n",
       "    <tr>\n",
       "      <td>11</td>\n",
       "      <td>.hack//Infection Part 1</td>\n",
       "      <td>PS2</td>\n",
       "      <td>2002</td>\n",
       "      <td>Role-Playing</td>\n",
       "      <td>T</td>\n",
       "      <td>0.49</td>\n",
       "    </tr>\n",
       "    <tr>\n",
       "      <td>12</td>\n",
       "      <td>.hack//Link</td>\n",
       "      <td>PSP</td>\n",
       "      <td>2010</td>\n",
       "      <td>Role-Playing</td>\n",
       "      <td>unknown</td>\n",
       "      <td>0.00</td>\n",
       "    </tr>\n",
       "    <tr>\n",
       "      <td>13</td>\n",
       "      <td>.hack//Mutation Part 2</td>\n",
       "      <td>PS2</td>\n",
       "      <td>2002</td>\n",
       "      <td>Role-Playing</td>\n",
       "      <td>T</td>\n",
       "      <td>0.23</td>\n",
       "    </tr>\n",
       "    <tr>\n",
       "      <td>14</td>\n",
       "      <td>.hack//Outbreak Part 3</td>\n",
       "      <td>PS2</td>\n",
       "      <td>2002</td>\n",
       "      <td>Role-Playing</td>\n",
       "      <td>T</td>\n",
       "      <td>0.14</td>\n",
       "    </tr>\n",
       "    <tr>\n",
       "      <td>15</td>\n",
       "      <td>.hack//Quarantine Part 4: The Final Chapter</td>\n",
       "      <td>PS2</td>\n",
       "      <td>2003</td>\n",
       "      <td>Role-Playing</td>\n",
       "      <td>unknown</td>\n",
       "      <td>0.09</td>\n",
       "    </tr>\n",
       "    <tr>\n",
       "      <td>16</td>\n",
       "      <td>.hack: Sekai no Mukou ni + Versus</td>\n",
       "      <td>PS3</td>\n",
       "      <td>2012</td>\n",
       "      <td>Action</td>\n",
       "      <td>unknown</td>\n",
       "      <td>0.00</td>\n",
       "    </tr>\n",
       "    <tr>\n",
       "      <td>17</td>\n",
       "      <td>007 Racing</td>\n",
       "      <td>PS</td>\n",
       "      <td>2000</td>\n",
       "      <td>Racing</td>\n",
       "      <td>T</td>\n",
       "      <td>0.30</td>\n",
       "    </tr>\n",
       "    <tr>\n",
       "      <td>18</td>\n",
       "      <td>007: Quantum of Solace</td>\n",
       "      <td>DS</td>\n",
       "      <td>2008</td>\n",
       "      <td>Action</td>\n",
       "      <td>T</td>\n",
       "      <td>0.11</td>\n",
       "    </tr>\n",
       "    <tr>\n",
       "      <td>19</td>\n",
       "      <td>007: Quantum of Solace</td>\n",
       "      <td>PC</td>\n",
       "      <td>2008</td>\n",
       "      <td>Action</td>\n",
       "      <td>T</td>\n",
       "      <td>0.01</td>\n",
       "    </tr>\n",
       "    <tr>\n",
       "      <td>20</td>\n",
       "      <td>007: Quantum of Solace</td>\n",
       "      <td>PS2</td>\n",
       "      <td>2008</td>\n",
       "      <td>Action</td>\n",
       "      <td>unknown</td>\n",
       "      <td>0.17</td>\n",
       "    </tr>\n",
       "    <tr>\n",
       "      <td>21</td>\n",
       "      <td>007: Quantum of Solace</td>\n",
       "      <td>PS3</td>\n",
       "      <td>2008</td>\n",
       "      <td>Action</td>\n",
       "      <td>T</td>\n",
       "      <td>0.43</td>\n",
       "    </tr>\n",
       "    <tr>\n",
       "      <td>22</td>\n",
       "      <td>007: Quantum of Solace</td>\n",
       "      <td>Wii</td>\n",
       "      <td>2008</td>\n",
       "      <td>Action</td>\n",
       "      <td>T</td>\n",
       "      <td>0.29</td>\n",
       "    </tr>\n",
       "    <tr>\n",
       "      <td>23</td>\n",
       "      <td>007: Quantum of Solace</td>\n",
       "      <td>X360</td>\n",
       "      <td>2008</td>\n",
       "      <td>Action</td>\n",
       "      <td>T</td>\n",
       "      <td>0.82</td>\n",
       "    </tr>\n",
       "    <tr>\n",
       "      <td>24</td>\n",
       "      <td>007: The World is not Enough</td>\n",
       "      <td>N64</td>\n",
       "      <td>2000</td>\n",
       "      <td>Action</td>\n",
       "      <td>unknown</td>\n",
       "      <td>1.13</td>\n",
       "    </tr>\n",
       "    <tr>\n",
       "      <td>25</td>\n",
       "      <td>007: The World is not Enough</td>\n",
       "      <td>PS</td>\n",
       "      <td>2000</td>\n",
       "      <td>Action</td>\n",
       "      <td>T</td>\n",
       "      <td>0.51</td>\n",
       "    </tr>\n",
       "    <tr>\n",
       "      <td>26</td>\n",
       "      <td>007: Tomorrow Never Dies</td>\n",
       "      <td>PS</td>\n",
       "      <td>1999</td>\n",
       "      <td>Shooter</td>\n",
       "      <td>unknown</td>\n",
       "      <td>1.72</td>\n",
       "    </tr>\n",
       "    <tr>\n",
       "      <td>27</td>\n",
       "      <td>1 vs. 100</td>\n",
       "      <td>DS</td>\n",
       "      <td>2008</td>\n",
       "      <td>Misc</td>\n",
       "      <td>E</td>\n",
       "      <td>0.08</td>\n",
       "    </tr>\n",
       "    <tr>\n",
       "      <td>28</td>\n",
       "      <td>1/2 Summer +</td>\n",
       "      <td>PSP</td>\n",
       "      <td>2013</td>\n",
       "      <td>Adventure</td>\n",
       "      <td>unknown</td>\n",
       "      <td>0.00</td>\n",
       "    </tr>\n",
       "    <tr>\n",
       "      <td>29</td>\n",
       "      <td>10 Minute Solution</td>\n",
       "      <td>Wii</td>\n",
       "      <td>2010</td>\n",
       "      <td>Sports</td>\n",
       "      <td>E</td>\n",
       "      <td>0.06</td>\n",
       "    </tr>\n",
       "    <tr>\n",
       "      <td>30</td>\n",
       "      <td>100 All-Time Favorites</td>\n",
       "      <td>DS</td>\n",
       "      <td>2009</td>\n",
       "      <td>Puzzle</td>\n",
       "      <td>E</td>\n",
       "      <td>0.35</td>\n",
       "    </tr>\n",
       "    <tr>\n",
       "      <td>31</td>\n",
       "      <td>100 Classic Books</td>\n",
       "      <td>DS</td>\n",
       "      <td>2008</td>\n",
       "      <td>Misc</td>\n",
       "      <td>unknown</td>\n",
       "      <td>0.12</td>\n",
       "    </tr>\n",
       "    <tr>\n",
       "      <td>32</td>\n",
       "      <td>100 Classic Games</td>\n",
       "      <td>DS</td>\n",
       "      <td>2011</td>\n",
       "      <td>Misc</td>\n",
       "      <td>unknown</td>\n",
       "      <td>0.00</td>\n",
       "    </tr>\n",
       "    <tr>\n",
       "      <td>33</td>\n",
       "      <td>1000 Cooking Recipes from ELLE à table</td>\n",
       "      <td>DS</td>\n",
       "      <td>2010</td>\n",
       "      <td>Misc</td>\n",
       "      <td>unknown</td>\n",
       "      <td>0.00</td>\n",
       "    </tr>\n",
       "    <tr>\n",
       "      <td>34</td>\n",
       "      <td>1001 Touch Games</td>\n",
       "      <td>DS</td>\n",
       "      <td>2011</td>\n",
       "      <td>Action</td>\n",
       "      <td>E</td>\n",
       "      <td>0.11</td>\n",
       "    </tr>\n",
       "    <tr>\n",
       "      <td>35</td>\n",
       "      <td>101-in-1 Explosive Megamix</td>\n",
       "      <td>DS</td>\n",
       "      <td>2008</td>\n",
       "      <td>Puzzle</td>\n",
       "      <td>E</td>\n",
       "      <td>0.05</td>\n",
       "    </tr>\n",
       "    <tr>\n",
       "      <td>36</td>\n",
       "      <td>101-in-1 Party Megamix Wii</td>\n",
       "      <td>Wii</td>\n",
       "      <td>2009</td>\n",
       "      <td>Misc</td>\n",
       "      <td>unknown</td>\n",
       "      <td>0.19</td>\n",
       "    </tr>\n",
       "    <tr>\n",
       "      <td>37</td>\n",
       "      <td>101-in-1 Sports Megamix</td>\n",
       "      <td>DS</td>\n",
       "      <td>2010</td>\n",
       "      <td>Sports</td>\n",
       "      <td>E10+</td>\n",
       "      <td>0.08</td>\n",
       "    </tr>\n",
       "    <tr>\n",
       "      <td>38</td>\n",
       "      <td>101-in-1 Sports Party Megamix</td>\n",
       "      <td>Wii</td>\n",
       "      <td>2010</td>\n",
       "      <td>Sports</td>\n",
       "      <td>E10+</td>\n",
       "      <td>0.02</td>\n",
       "    </tr>\n",
       "    <tr>\n",
       "      <td>39</td>\n",
       "      <td>1080°: TenEighty Snowboarding</td>\n",
       "      <td>N64</td>\n",
       "      <td>1998</td>\n",
       "      <td>Sports</td>\n",
       "      <td>unknown</td>\n",
       "      <td>1.25</td>\n",
       "    </tr>\n",
       "    <tr>\n",
       "      <td>40</td>\n",
       "      <td>11eyes: CrossOver</td>\n",
       "      <td>PSP</td>\n",
       "      <td>2010</td>\n",
       "      <td>Adventure</td>\n",
       "      <td>unknown</td>\n",
       "      <td>0.00</td>\n",
       "    </tr>\n",
       "    <tr>\n",
       "      <td>41</td>\n",
       "      <td>11eyes: CrossOver</td>\n",
       "      <td>X360</td>\n",
       "      <td>2009</td>\n",
       "      <td>Adventure</td>\n",
       "      <td>unknown</td>\n",
       "      <td>0.00</td>\n",
       "    </tr>\n",
       "    <tr>\n",
       "      <td>42</td>\n",
       "      <td>12-Sai. Honto no Kimochi</td>\n",
       "      <td>3DS</td>\n",
       "      <td>2014</td>\n",
       "      <td>Adventure</td>\n",
       "      <td>unknown</td>\n",
       "      <td>0.00</td>\n",
       "    </tr>\n",
       "    <tr>\n",
       "      <td>43</td>\n",
       "      <td>12-Sai. Koisuru Diary</td>\n",
       "      <td>3DS</td>\n",
       "      <td>2016</td>\n",
       "      <td>Adventure</td>\n",
       "      <td>unknown</td>\n",
       "      <td>0.00</td>\n",
       "    </tr>\n",
       "    <tr>\n",
       "      <td>44</td>\n",
       "      <td>12Riven: The Psi-Climinal of Integral</td>\n",
       "      <td>PS2</td>\n",
       "      <td>2008</td>\n",
       "      <td>Adventure</td>\n",
       "      <td>unknown</td>\n",
       "      <td>0.00</td>\n",
       "    </tr>\n",
       "    <tr>\n",
       "      <td>45</td>\n",
       "      <td>15 Days</td>\n",
       "      <td>PC</td>\n",
       "      <td>2009</td>\n",
       "      <td>Adventure</td>\n",
       "      <td>unknown</td>\n",
       "      <td>0.00</td>\n",
       "    </tr>\n",
       "    <tr>\n",
       "      <td>46</td>\n",
       "      <td>1701 A.D.</td>\n",
       "      <td>PC</td>\n",
       "      <td>2006</td>\n",
       "      <td>Simulation</td>\n",
       "      <td>E10+</td>\n",
       "      <td>0.00</td>\n",
       "    </tr>\n",
       "    <tr>\n",
       "      <td>47</td>\n",
       "      <td>18 Wheeler: American Pro Trucker</td>\n",
       "      <td>GC</td>\n",
       "      <td>2002</td>\n",
       "      <td>Racing</td>\n",
       "      <td>E</td>\n",
       "      <td>0.09</td>\n",
       "    </tr>\n",
       "    <tr>\n",
       "      <td>48</td>\n",
       "      <td>18 Wheeler: American Pro Trucker</td>\n",
       "      <td>PS2</td>\n",
       "      <td>2001</td>\n",
       "      <td>Racing</td>\n",
       "      <td>E</td>\n",
       "      <td>0.20</td>\n",
       "    </tr>\n",
       "    <tr>\n",
       "      <td>49</td>\n",
       "      <td>18 Wheels of Steel: Extreme Trucker</td>\n",
       "      <td>PC</td>\n",
       "      <td>2009</td>\n",
       "      <td>Racing</td>\n",
       "      <td>unknown</td>\n",
       "      <td>0.00</td>\n",
       "    </tr>\n",
       "  </tbody>\n",
       "</table>\n",
       "</div>"
      ],
      "text/plain": [
       "                                           name platform year_of_release  \\\n",
       "                                                                           \n",
       "0                                Beyblade Burst      3DS            2016   \n",
       "1                             Fire Emblem Fates      3DS            2015   \n",
       "2                          Frozen: Olaf's Quest      3DS            2013   \n",
       "3                          Frozen: Olaf's Quest       DS            2013   \n",
       "4                    Haikyu!! Cross Team Match!      3DS            2016   \n",
       "5                             Tales of Xillia 2      PS3            2012   \n",
       "6                                   '98 Koshien       PS            1998   \n",
       "7                    .hack//G.U. Vol.1//Rebirth      PS2            2006   \n",
       "8                  .hack//G.U. Vol.2//Reminisce      PS2            2006   \n",
       "9       .hack//G.U. Vol.2//Reminisce (jp sales)      PS2            2006   \n",
       "10                .hack//G.U. Vol.3//Redemption      PS2            2007   \n",
       "11                      .hack//Infection Part 1      PS2            2002   \n",
       "12                                  .hack//Link      PSP            2010   \n",
       "13                       .hack//Mutation Part 2      PS2            2002   \n",
       "14                       .hack//Outbreak Part 3      PS2            2002   \n",
       "15  .hack//Quarantine Part 4: The Final Chapter      PS2            2003   \n",
       "16            .hack: Sekai no Mukou ni + Versus      PS3            2012   \n",
       "17                                   007 Racing       PS            2000   \n",
       "18                       007: Quantum of Solace       DS            2008   \n",
       "19                       007: Quantum of Solace       PC            2008   \n",
       "20                       007: Quantum of Solace      PS2            2008   \n",
       "21                       007: Quantum of Solace      PS3            2008   \n",
       "22                       007: Quantum of Solace      Wii            2008   \n",
       "23                       007: Quantum of Solace     X360            2008   \n",
       "24                 007: The World is not Enough      N64            2000   \n",
       "25                 007: The World is not Enough       PS            2000   \n",
       "26                     007: Tomorrow Never Dies       PS            1999   \n",
       "27                                    1 vs. 100       DS            2008   \n",
       "28                                 1/2 Summer +      PSP            2013   \n",
       "29                           10 Minute Solution      Wii            2010   \n",
       "30                       100 All-Time Favorites       DS            2009   \n",
       "31                            100 Classic Books       DS            2008   \n",
       "32                            100 Classic Games       DS            2011   \n",
       "33       1000 Cooking Recipes from ELLE à table       DS            2010   \n",
       "34                             1001 Touch Games       DS            2011   \n",
       "35                   101-in-1 Explosive Megamix       DS            2008   \n",
       "36                   101-in-1 Party Megamix Wii      Wii            2009   \n",
       "37                      101-in-1 Sports Megamix       DS            2010   \n",
       "38                101-in-1 Sports Party Megamix      Wii            2010   \n",
       "39                1080°: TenEighty Snowboarding      N64            1998   \n",
       "40                            11eyes: CrossOver      PSP            2010   \n",
       "41                            11eyes: CrossOver     X360            2009   \n",
       "42                     12-Sai. Honto no Kimochi      3DS            2014   \n",
       "43                        12-Sai. Koisuru Diary      3DS            2016   \n",
       "44        12Riven: The Psi-Climinal of Integral      PS2            2008   \n",
       "45                                      15 Days       PC            2009   \n",
       "46                                    1701 A.D.       PC            2006   \n",
       "47             18 Wheeler: American Pro Trucker       GC            2002   \n",
       "48             18 Wheeler: American Pro Trucker      PS2            2001   \n",
       "49          18 Wheels of Steel: Extreme Trucker       PC            2009   \n",
       "\n",
       "           genre   rating      sum  \n",
       "                          na_sales  \n",
       "0   Role-Playing  unknown     0.00  \n",
       "1   Role-Playing  unknown     0.81  \n",
       "2       Platform  unknown     0.27  \n",
       "3       Platform  unknown     0.21  \n",
       "4      Adventure  unknown     0.00  \n",
       "5   Role-Playing        T     0.20  \n",
       "6         Sports  unknown     0.15  \n",
       "7   Role-Playing  unknown     0.00  \n",
       "8   Role-Playing  unknown     0.11  \n",
       "9   Role-Playing  unknown     0.00  \n",
       "10  Role-Playing  unknown     0.00  \n",
       "11  Role-Playing        T     0.49  \n",
       "12  Role-Playing  unknown     0.00  \n",
       "13  Role-Playing        T     0.23  \n",
       "14  Role-Playing        T     0.14  \n",
       "15  Role-Playing  unknown     0.09  \n",
       "16        Action  unknown     0.00  \n",
       "17        Racing        T     0.30  \n",
       "18        Action        T     0.11  \n",
       "19        Action        T     0.01  \n",
       "20        Action  unknown     0.17  \n",
       "21        Action        T     0.43  \n",
       "22        Action        T     0.29  \n",
       "23        Action        T     0.82  \n",
       "24        Action  unknown     1.13  \n",
       "25        Action        T     0.51  \n",
       "26       Shooter  unknown     1.72  \n",
       "27          Misc        E     0.08  \n",
       "28     Adventure  unknown     0.00  \n",
       "29        Sports        E     0.06  \n",
       "30        Puzzle        E     0.35  \n",
       "31          Misc  unknown     0.12  \n",
       "32          Misc  unknown     0.00  \n",
       "33          Misc  unknown     0.00  \n",
       "34        Action        E     0.11  \n",
       "35        Puzzle        E     0.05  \n",
       "36          Misc  unknown     0.19  \n",
       "37        Sports     E10+     0.08  \n",
       "38        Sports     E10+     0.02  \n",
       "39        Sports  unknown     1.25  \n",
       "40     Adventure  unknown     0.00  \n",
       "41     Adventure  unknown     0.00  \n",
       "42     Adventure  unknown     0.00  \n",
       "43     Adventure  unknown     0.00  \n",
       "44     Adventure  unknown     0.00  \n",
       "45     Adventure  unknown     0.00  \n",
       "46    Simulation     E10+     0.00  \n",
       "47        Racing        E     0.09  \n",
       "48        Racing        E     0.20  \n",
       "49        Racing  unknown     0.00  "
      ]
     },
     "execution_count": 10,
     "metadata": {},
     "output_type": "execute_result"
    }
   ],
   "source": [
    "rat = df.groupby('platform')['rating'].count()\n",
    "print(rat)\n",
    "adf = (df.pivot_table(index=['name','platform','year_of_release','genre','rating' ],\n",
    "                      values=['na_sales'], aggfunc=['sum']).reset_index())\n",
    "adf.head(50)"
   ]
  },
  {
   "cell_type": "markdown",
   "metadata": {},
   "source": [
    "Версия не подтвердилась. Попробуем сгруппировать по жанру и посмотреть какие категории они содержат."
   ]
  },
  {
   "cell_type": "code",
   "execution_count": 11,
   "metadata": {},
   "outputs": [
    {
     "data": {
      "text/html": [
       "<div>\n",
       "<style scoped>\n",
       "    .dataframe tbody tr th:only-of-type {\n",
       "        vertical-align: middle;\n",
       "    }\n",
       "\n",
       "    .dataframe tbody tr th {\n",
       "        vertical-align: top;\n",
       "    }\n",
       "\n",
       "    .dataframe thead tr th {\n",
       "        text-align: left;\n",
       "    }\n",
       "</style>\n",
       "<table border=\"1\" class=\"dataframe\">\n",
       "  <thead>\n",
       "    <tr>\n",
       "      <th></th>\n",
       "      <th>genre</th>\n",
       "      <th>rating</th>\n",
       "      <th>sum</th>\n",
       "    </tr>\n",
       "    <tr>\n",
       "      <th></th>\n",
       "      <th></th>\n",
       "      <th></th>\n",
       "      <th>na_sales</th>\n",
       "    </tr>\n",
       "  </thead>\n",
       "  <tbody>\n",
       "    <tr>\n",
       "      <td>0</td>\n",
       "      <td>Action</td>\n",
       "      <td>AO</td>\n",
       "      <td>1.26</td>\n",
       "    </tr>\n",
       "    <tr>\n",
       "      <td>1</td>\n",
       "      <td>Action</td>\n",
       "      <td>E</td>\n",
       "      <td>112.19</td>\n",
       "    </tr>\n",
       "    <tr>\n",
       "      <td>2</td>\n",
       "      <td>Action</td>\n",
       "      <td>E10+</td>\n",
       "      <td>120.09</td>\n",
       "    </tr>\n",
       "    <tr>\n",
       "      <td>3</td>\n",
       "      <td>Action</td>\n",
       "      <td>EC</td>\n",
       "      <td>0.42</td>\n",
       "    </tr>\n",
       "    <tr>\n",
       "      <td>4</td>\n",
       "      <td>Action</td>\n",
       "      <td>M</td>\n",
       "      <td>282.27</td>\n",
       "    </tr>\n",
       "    <tr>\n",
       "      <td>5</td>\n",
       "      <td>Action</td>\n",
       "      <td>T</td>\n",
       "      <td>161.80</td>\n",
       "    </tr>\n",
       "    <tr>\n",
       "      <td>6</td>\n",
       "      <td>Action</td>\n",
       "      <td>unknown</td>\n",
       "      <td>195.67</td>\n",
       "    </tr>\n",
       "    <tr>\n",
       "      <td>7</td>\n",
       "      <td>Adventure</td>\n",
       "      <td>E</td>\n",
       "      <td>33.89</td>\n",
       "    </tr>\n",
       "    <tr>\n",
       "      <td>8</td>\n",
       "      <td>Adventure</td>\n",
       "      <td>E10+</td>\n",
       "      <td>6.26</td>\n",
       "    </tr>\n",
       "    <tr>\n",
       "      <td>9</td>\n",
       "      <td>Adventure</td>\n",
       "      <td>EC</td>\n",
       "      <td>0.21</td>\n",
       "    </tr>\n",
       "    <tr>\n",
       "      <td>10</td>\n",
       "      <td>Adventure</td>\n",
       "      <td>M</td>\n",
       "      <td>18.63</td>\n",
       "    </tr>\n",
       "    <tr>\n",
       "      <td>11</td>\n",
       "      <td>Adventure</td>\n",
       "      <td>T</td>\n",
       "      <td>8.90</td>\n",
       "    </tr>\n",
       "    <tr>\n",
       "      <td>12</td>\n",
       "      <td>Adventure</td>\n",
       "      <td>unknown</td>\n",
       "      <td>33.63</td>\n",
       "    </tr>\n",
       "    <tr>\n",
       "      <td>13</td>\n",
       "      <td>Fighting</td>\n",
       "      <td>E</td>\n",
       "      <td>0.66</td>\n",
       "    </tr>\n",
       "    <tr>\n",
       "      <td>14</td>\n",
       "      <td>Fighting</td>\n",
       "      <td>E10+</td>\n",
       "      <td>2.89</td>\n",
       "    </tr>\n",
       "    <tr>\n",
       "      <td>15</td>\n",
       "      <td>Fighting</td>\n",
       "      <td>M</td>\n",
       "      <td>18.25</td>\n",
       "    </tr>\n",
       "    <tr>\n",
       "      <td>16</td>\n",
       "      <td>Fighting</td>\n",
       "      <td>T</td>\n",
       "      <td>120.56</td>\n",
       "    </tr>\n",
       "    <tr>\n",
       "      <td>17</td>\n",
       "      <td>Fighting</td>\n",
       "      <td>unknown</td>\n",
       "      <td>78.84</td>\n",
       "    </tr>\n",
       "    <tr>\n",
       "      <td>18</td>\n",
       "      <td>Misc</td>\n",
       "      <td>E</td>\n",
       "      <td>153.57</td>\n",
       "    </tr>\n",
       "    <tr>\n",
       "      <td>19</td>\n",
       "      <td>Misc</td>\n",
       "      <td>E10+</td>\n",
       "      <td>68.07</td>\n",
       "    </tr>\n",
       "  </tbody>\n",
       "</table>\n",
       "</div>"
      ],
      "text/plain": [
       "        genre   rating      sum\n",
       "                       na_sales\n",
       "0      Action       AO     1.26\n",
       "1      Action        E   112.19\n",
       "2      Action     E10+   120.09\n",
       "3      Action       EC     0.42\n",
       "4      Action        M   282.27\n",
       "5      Action        T   161.80\n",
       "6      Action  unknown   195.67\n",
       "7   Adventure        E    33.89\n",
       "8   Adventure     E10+     6.26\n",
       "9   Adventure       EC     0.21\n",
       "10  Adventure        M    18.63\n",
       "11  Adventure        T     8.90\n",
       "12  Adventure  unknown    33.63\n",
       "13   Fighting        E     0.66\n",
       "14   Fighting     E10+     2.89\n",
       "15   Fighting        M    18.25\n",
       "16   Fighting        T   120.56\n",
       "17   Fighting  unknown    78.84\n",
       "18       Misc        E   153.57\n",
       "19       Misc     E10+    68.07"
      ]
     },
     "execution_count": 11,
     "metadata": {},
     "output_type": "execute_result"
    }
   ],
   "source": [
    "adf1 = df.pivot_table(index=['genre','rating' ],values=['na_sales'], aggfunc=['sum']).reset_index()\n",
    "adf1.head(20)"
   ]
  },
  {
   "cell_type": "markdown",
   "metadata": {},
   "source": [
    "Видим, что заполнить категорию по принадлежности к жанру тоже не получится, поскльку в одном жанре выпускаются игры для разных возрастных категорий. "
   ]
  },
  {
   "cell_type": "markdown",
   "metadata": {},
   "source": [
    "Таким образом, приходим к выводу, что в столбце \"rating\" оставим пропуски заполненными на значение unknown, чтобы отличать их от корректных данных.\n",
    "\n",
    "Заполнение пропусков \"оценок критиков\" и \"оценок пользователей\" с помощью классических методов, таких как среднее или медиана считаю нецелесообразным, тем более при таком их объеме, поскольку корреляция оценок и рейтинга с другими столбцами непредсказуема.  Ведь нельзя утверждать, что если, например, один фильм одного жанра набрал определенный рейтинг, то следовательно и другой фильм этого жанра будет с таким же рейтингом, ведь это как раз и есть уникальность фильма. Кроме того, если заполнить более 50% данных рассчетными величинами, а потом их же анализировать, то  какой смысл в таком анализе? Удалять такие строки тоже не нужно, поскольку в других столбцах содержится ценная информация. По этой причине столбцы \"critic_score\" и \"user_score\" заполним значениями, которые не могут встретиться в правильных данных, пусть это будет 5000, а при анализе данных с участием этих столбцов создадим отдельные таблицы, которые не будут содержать эти строки.\n",
    " \n",
    "Также в столбце \"user_score\" есть значения tbd, что означает to be determinate, т.е. значния пока не определены. Отсортировав таблицу по этому значению и сгруппировав по году выпуска становится понятно, что это не связано с годом выпуска, поскольку в списке не только новые игры. Возможно, независимо от года выпуска, рейтинг пользователей не был присвоен также и потому, что игры напроитив очень старые, а возможность пользователей выставлять рейтинг онлайн появилась не так давно. В любом случае, это означает, что данных пока нет, поэтому расценим tbd как пропуски и заменим также на значения 5000. "
   ]
  },
  {
   "cell_type": "code",
   "execution_count": 12,
   "metadata": {},
   "outputs": [
    {
     "name": "stdout",
     "output_type": "stream",
     "text": [
      "<class 'pandas.core.frame.DataFrame'>\n",
      "Int64Index: 16567 entries, 0 to 16714\n",
      "Data columns (total 11 columns):\n",
      "name               16567 non-null object\n",
      "platform           16567 non-null object\n",
      "year_of_release    16567 non-null int64\n",
      "genre              16567 non-null object\n",
      "na_sales           16567 non-null float64\n",
      "eu_sales           16567 non-null float64\n",
      "jp_sales           16567 non-null float64\n",
      "other_sales        16567 non-null float64\n",
      "critic_score       16567 non-null float64\n",
      "user_score         16567 non-null float64\n",
      "rating             16567 non-null object\n",
      "dtypes: float64(6), int64(1), object(4)\n",
      "memory usage: 1.5+ MB\n"
     ]
    }
   ],
   "source": [
    "#вызовем функции для заполнения пропусков и изменения типа оценок критиков\n",
    "fill('critic_score', 5000)\n",
    "change_type('critic_score', 'float')\n",
    "\n",
    "#вызовем функции для заполнения пропусков и изменения типа оценок пользователей\n",
    "to_numb('user_score')\n",
    "fill('user_score', 5000)\n",
    "change_type('user_score', 'float')\n",
    "\n",
    "df.info()"
   ]
  },
  {
   "cell_type": "markdown",
   "metadata": {},
   "source": [
    "Видим, что пропуски заполнены."
   ]
  },
  {
   "cell_type": "markdown",
   "metadata": {},
   "source": [
    "Теперь посчитаем суммарные продажи во всех регионах и запишем их в отдельный столбец."
   ]
  },
  {
   "cell_type": "code",
   "execution_count": 13,
   "metadata": {},
   "outputs": [
    {
     "data": {
      "text/html": [
       "<div>\n",
       "<style scoped>\n",
       "    .dataframe tbody tr th:only-of-type {\n",
       "        vertical-align: middle;\n",
       "    }\n",
       "\n",
       "    .dataframe tbody tr th {\n",
       "        vertical-align: top;\n",
       "    }\n",
       "\n",
       "    .dataframe thead th {\n",
       "        text-align: right;\n",
       "    }\n",
       "</style>\n",
       "<table border=\"1\" class=\"dataframe\">\n",
       "  <thead>\n",
       "    <tr style=\"text-align: right;\">\n",
       "      <th></th>\n",
       "      <th>name</th>\n",
       "      <th>platform</th>\n",
       "      <th>year_of_release</th>\n",
       "      <th>genre</th>\n",
       "      <th>na_sales</th>\n",
       "      <th>eu_sales</th>\n",
       "      <th>jp_sales</th>\n",
       "      <th>other_sales</th>\n",
       "      <th>critic_score</th>\n",
       "      <th>user_score</th>\n",
       "      <th>rating</th>\n",
       "      <th>total_sale</th>\n",
       "    </tr>\n",
       "  </thead>\n",
       "  <tbody>\n",
       "    <tr>\n",
       "      <td>0</td>\n",
       "      <td>Wii Sports</td>\n",
       "      <td>Wii</td>\n",
       "      <td>2006</td>\n",
       "      <td>Sports</td>\n",
       "      <td>41.36</td>\n",
       "      <td>28.96</td>\n",
       "      <td>3.77</td>\n",
       "      <td>8.45</td>\n",
       "      <td>76.0</td>\n",
       "      <td>8.0</td>\n",
       "      <td>E</td>\n",
       "      <td>82.54</td>\n",
       "    </tr>\n",
       "    <tr>\n",
       "      <td>1</td>\n",
       "      <td>Super Mario Bros.</td>\n",
       "      <td>NES</td>\n",
       "      <td>1985</td>\n",
       "      <td>Platform</td>\n",
       "      <td>29.08</td>\n",
       "      <td>3.58</td>\n",
       "      <td>6.81</td>\n",
       "      <td>0.77</td>\n",
       "      <td>5000.0</td>\n",
       "      <td>5000.0</td>\n",
       "      <td>unknown</td>\n",
       "      <td>40.24</td>\n",
       "    </tr>\n",
       "    <tr>\n",
       "      <td>2</td>\n",
       "      <td>Mario Kart Wii</td>\n",
       "      <td>Wii</td>\n",
       "      <td>2008</td>\n",
       "      <td>Racing</td>\n",
       "      <td>15.68</td>\n",
       "      <td>12.76</td>\n",
       "      <td>3.79</td>\n",
       "      <td>3.29</td>\n",
       "      <td>82.0</td>\n",
       "      <td>8.3</td>\n",
       "      <td>E</td>\n",
       "      <td>35.52</td>\n",
       "    </tr>\n",
       "  </tbody>\n",
       "</table>\n",
       "</div>"
      ],
      "text/plain": [
       "                name platform  year_of_release     genre  na_sales  eu_sales  \\\n",
       "0         Wii Sports      Wii             2006    Sports     41.36     28.96   \n",
       "1  Super Mario Bros.      NES             1985  Platform     29.08      3.58   \n",
       "2     Mario Kart Wii      Wii             2008    Racing     15.68     12.76   \n",
       "\n",
       "   jp_sales  other_sales  critic_score  user_score   rating  total_sale  \n",
       "0      3.77         8.45          76.0         8.0        E       82.54  \n",
       "1      6.81         0.77        5000.0      5000.0  unknown       40.24  \n",
       "2      3.79         3.29          82.0         8.3        E       35.52  "
      ]
     },
     "execution_count": 13,
     "metadata": {},
     "output_type": "execute_result"
    }
   ],
   "source": [
    "df['total_sale'] = df['na_sales']+df['eu_sales']+df['jp_sales']+df['other_sales']\n",
    "df.head(3)"
   ]
  },
  {
   "cell_type": "markdown",
   "metadata": {},
   "source": [
    "Теперь данные готовы для дальнейшего анализа."
   ]
  },
  {
   "cell_type": "markdown",
   "metadata": {},
   "source": [
    "## 3. Исследовательсткий анализ данных. <a id='#step3'></a>"
   ]
  },
  {
   "cell_type": "markdown",
   "metadata": {},
   "source": [
    "Посмотрим какое количество игр выпускалось в разные годы:"
   ]
  },
  {
   "cell_type": "code",
   "execution_count": 14,
   "metadata": {},
   "outputs": [
    {
     "data": {
      "image/png": "[encoded data removed]",
      "text/plain": [
       "<Figure size 720x432 with 1 Axes>"
      ]
     },
     "metadata": {
      "needs_background": "light"
     },
     "output_type": "display_data"
    }
   ],
   "source": [
    "graf = df.groupby('year_of_release')['name'].count()\n",
    "graf.plot(x='year_of_release', y='name', style='o-', grid=True);"
   ]
  },
  {
   "cell_type": "markdown",
   "metadata": {},
   "source": [
    "До 1994 года количество выпускаемых игр не превышало 30-50 в год. После 1994 года начался всплеск интереса к видео-играм и резкий рост их количества в год. Пик пришелся на 2008-2009 годы, когда в год выпускалось более чем по 1400 новых игр. Затем последовало резкое снижение и к 2013 году их количество сократилось в двое. Для анализа наиболее интересен период с момента, когда началсы рост и по настоящий момент(год предоставления данных - 2016). "
   ]
  },
  {
   "cell_type": "code",
   "execution_count": 15,
   "metadata": {},
   "outputs": [],
   "source": [
    "df_1994 = df.query('year_of_release > 1994')\n",
    "#df_1994"
   ]
  },
  {
   "cell_type": "markdown",
   "metadata": {},
   "source": [
    "Далее проанализируем как менялись продажи по платформам со временем."
   ]
  },
  {
   "cell_type": "code",
   "execution_count": 16,
   "metadata": {},
   "outputs": [
    {
     "data": {
      "text/html": [
       "<div>\n",
       "<style scoped>\n",
       "    .dataframe tbody tr th:only-of-type {\n",
       "        vertical-align: middle;\n",
       "    }\n",
       "\n",
       "    .dataframe tbody tr th {\n",
       "        vertical-align: top;\n",
       "    }\n",
       "\n",
       "    .dataframe thead th {\n",
       "        text-align: right;\n",
       "    }\n",
       "</style>\n",
       "<table border=\"1\" class=\"dataframe\">\n",
       "  <thead>\n",
       "    <tr style=\"text-align: right;\">\n",
       "      <th></th>\n",
       "      <th>0</th>\n",
       "      <th>1</th>\n",
       "      <th>2</th>\n",
       "      <th>3</th>\n",
       "      <th>4</th>\n",
       "      <th>5</th>\n",
       "      <th>6</th>\n",
       "      <th>7</th>\n",
       "      <th>8</th>\n",
       "      <th>9</th>\n",
       "      <th>...</th>\n",
       "      <th>16</th>\n",
       "      <th>17</th>\n",
       "      <th>18</th>\n",
       "      <th>19</th>\n",
       "      <th>20</th>\n",
       "      <th>21</th>\n",
       "      <th>22</th>\n",
       "      <th>23</th>\n",
       "      <th>24</th>\n",
       "      <th>25</th>\n",
       "    </tr>\n",
       "  </thead>\n",
       "  <tbody>\n",
       "    <tr>\n",
       "      <td>platform</td>\n",
       "      <td>PS2</td>\n",
       "      <td>X360</td>\n",
       "      <td>PS3</td>\n",
       "      <td>Wii</td>\n",
       "      <td>DS</td>\n",
       "      <td>PS</td>\n",
       "      <td>PS4</td>\n",
       "      <td>GBA</td>\n",
       "      <td>PSP</td>\n",
       "      <td>3DS</td>\n",
       "      <td>...</td>\n",
       "      <td>WiiU</td>\n",
       "      <td>PSV</td>\n",
       "      <td>SNES</td>\n",
       "      <td>SAT</td>\n",
       "      <td>DC</td>\n",
       "      <td>WS</td>\n",
       "      <td>NG</td>\n",
       "      <td>TG16</td>\n",
       "      <td>3DO</td>\n",
       "      <td>PCFX</td>\n",
       "    </tr>\n",
       "    <tr>\n",
       "      <td>total_sale</td>\n",
       "      <td>1247.16</td>\n",
       "      <td>966.61</td>\n",
       "      <td>934.71</td>\n",
       "      <td>903.31</td>\n",
       "      <td>804.26</td>\n",
       "      <td>721.55</td>\n",
       "      <td>314.14</td>\n",
       "      <td>313.73</td>\n",
       "      <td>293.57</td>\n",
       "      <td>258.53</td>\n",
       "      <td>...</td>\n",
       "      <td>82.19</td>\n",
       "      <td>53.81</td>\n",
       "      <td>49.59</td>\n",
       "      <td>29.94</td>\n",
       "      <td>15.95</td>\n",
       "      <td>1.42</td>\n",
       "      <td>0.43</td>\n",
       "      <td>0.16</td>\n",
       "      <td>0.08</td>\n",
       "      <td>0.03</td>\n",
       "    </tr>\n",
       "  </tbody>\n",
       "</table>\n",
       "<p>2 rows × 26 columns</p>\n",
       "</div>"
      ],
      "text/plain": [
       "                 0       1       2       3       4       5       6       7   \\\n",
       "platform        PS2    X360     PS3     Wii      DS      PS     PS4     GBA   \n",
       "total_sale  1247.16  966.61  934.71  903.31  804.26  721.55  314.14  313.73   \n",
       "\n",
       "                8       9   ...     16     17     18     19     20    21  \\\n",
       "platform       PSP     3DS  ...   WiiU    PSV   SNES    SAT     DC    WS   \n",
       "total_sale  293.57  258.53  ...  82.19  53.81  49.59  29.94  15.95  1.42   \n",
       "\n",
       "              22    23    24    25  \n",
       "platform      NG  TG16   3DO  PCFX  \n",
       "total_sale  0.43  0.16  0.08  0.03  \n",
       "\n",
       "[2 rows x 26 columns]"
      ]
     },
     "execution_count": 16,
     "metadata": {},
     "output_type": "execute_result"
    }
   ],
   "source": [
    "df_platform = df_1994.groupby('platform')['total_sale'].sum().sort_values(ascending = False).reset_index()\n",
    "df_platform.T"
   ]
  },
  {
   "cell_type": "code",
   "execution_count": 17,
   "metadata": {},
   "outputs": [],
   "source": [
    "#отсортируем платформы: оставим те, где суммарные продажи составили более 150 млн. \n",
    "df_platform = df_platform.query('total_sale > 150.000000')\n",
    "df_platform = df_platform['platform']"
   ]
  },
  {
   "cell_type": "code",
   "execution_count": 18,
   "metadata": {},
   "outputs": [
    {
     "data": {
      "text/html": [
       "<div>\n",
       "<style scoped>\n",
       "    .dataframe tbody tr th:only-of-type {\n",
       "        vertical-align: middle;\n",
       "    }\n",
       "\n",
       "    .dataframe tbody tr th {\n",
       "        vertical-align: top;\n",
       "    }\n",
       "\n",
       "    .dataframe thead th {\n",
       "        text-align: right;\n",
       "    }\n",
       "</style>\n",
       "<table border=\"1\" class=\"dataframe\">\n",
       "  <thead>\n",
       "    <tr style=\"text-align: right;\">\n",
       "      <th></th>\n",
       "      <th>0</th>\n",
       "      <th>1</th>\n",
       "      <th>2</th>\n",
       "      <th>3</th>\n",
       "      <th>4</th>\n",
       "      <th>5</th>\n",
       "      <th>6</th>\n",
       "      <th>7</th>\n",
       "      <th>8</th>\n",
       "      <th>9</th>\n",
       "      <th>10</th>\n",
       "      <th>11</th>\n",
       "      <th>12</th>\n",
       "      <th>13</th>\n",
       "      <th>14</th>\n",
       "    </tr>\n",
       "  </thead>\n",
       "  <tbody>\n",
       "    <tr>\n",
       "      <td>platform</td>\n",
       "      <td>3DS</td>\n",
       "      <td>DS</td>\n",
       "      <td>GBA</td>\n",
       "      <td>GC</td>\n",
       "      <td>N64</td>\n",
       "      <td>PC</td>\n",
       "      <td>PS</td>\n",
       "      <td>PS2</td>\n",
       "      <td>PS3</td>\n",
       "      <td>PS4</td>\n",
       "      <td>PSP</td>\n",
       "      <td>Wii</td>\n",
       "      <td>X360</td>\n",
       "      <td>XB</td>\n",
       "      <td>XOne</td>\n",
       "    </tr>\n",
       "    <tr>\n",
       "      <td>year_of_release</td>\n",
       "      <td>515</td>\n",
       "      <td>2128</td>\n",
       "      <td>813</td>\n",
       "      <td>552</td>\n",
       "      <td>318</td>\n",
       "      <td>957</td>\n",
       "      <td>1173</td>\n",
       "      <td>2140</td>\n",
       "      <td>1319</td>\n",
       "      <td>392</td>\n",
       "      <td>1203</td>\n",
       "      <td>1301</td>\n",
       "      <td>1250</td>\n",
       "      <td>817</td>\n",
       "      <td>247</td>\n",
       "    </tr>\n",
       "  </tbody>\n",
       "</table>\n",
       "</div>"
      ],
      "text/plain": [
       "                   0     1    2    3    4    5     6     7     8    9    10  \\\n",
       "platform         3DS    DS  GBA   GC  N64   PC    PS   PS2   PS3  PS4   PSP   \n",
       "year_of_release  515  2128  813  552  318  957  1173  2140  1319  392  1203   \n",
       "\n",
       "                   11    12   13    14  \n",
       "platform          Wii  X360   XB  XOne  \n",
       "year_of_release  1301  1250  817   247  "
      ]
     },
     "execution_count": 18,
     "metadata": {},
     "output_type": "execute_result"
    }
   ],
   "source": [
    "#создадим таблицу в которую входят только платформы из списка и посмотрим результат\n",
    "pl_year = df_1994.query('platform in @df_platform')\n",
    "pl_year.groupby('platform')['year_of_release'].count().reset_index().T"
   ]
  },
  {
   "cell_type": "code",
   "execution_count": 19,
   "metadata": {},
   "outputs": [
    {
     "data": {
      "text/html": [
       "<div>\n",
       "<style scoped>\n",
       "    .dataframe tbody tr th:only-of-type {\n",
       "        vertical-align: middle;\n",
       "    }\n",
       "\n",
       "    .dataframe tbody tr th {\n",
       "        vertical-align: top;\n",
       "    }\n",
       "\n",
       "    .dataframe thead th {\n",
       "        text-align: right;\n",
       "    }\n",
       "</style>\n",
       "<table border=\"1\" class=\"dataframe\">\n",
       "  <thead>\n",
       "    <tr style=\"text-align: right;\">\n",
       "      <th></th>\n",
       "      <th>name</th>\n",
       "      <th>platform</th>\n",
       "      <th>year_of_release</th>\n",
       "      <th>genre</th>\n",
       "      <th>na_sales</th>\n",
       "      <th>eu_sales</th>\n",
       "      <th>jp_sales</th>\n",
       "      <th>other_sales</th>\n",
       "      <th>critic_score</th>\n",
       "      <th>user_score</th>\n",
       "      <th>rating</th>\n",
       "      <th>total_sale</th>\n",
       "    </tr>\n",
       "  </thead>\n",
       "  <tbody>\n",
       "    <tr>\n",
       "      <td>0</td>\n",
       "      <td>Wii Sports</td>\n",
       "      <td>Wii</td>\n",
       "      <td>2006</td>\n",
       "      <td>Sports</td>\n",
       "      <td>41.36</td>\n",
       "      <td>28.96</td>\n",
       "      <td>3.77</td>\n",
       "      <td>8.45</td>\n",
       "      <td>76.0</td>\n",
       "      <td>8.0</td>\n",
       "      <td>E</td>\n",
       "      <td>82.54</td>\n",
       "    </tr>\n",
       "    <tr>\n",
       "      <td>2</td>\n",
       "      <td>Mario Kart Wii</td>\n",
       "      <td>Wii</td>\n",
       "      <td>2008</td>\n",
       "      <td>Racing</td>\n",
       "      <td>15.68</td>\n",
       "      <td>12.76</td>\n",
       "      <td>3.79</td>\n",
       "      <td>3.29</td>\n",
       "      <td>82.0</td>\n",
       "      <td>8.3</td>\n",
       "      <td>E</td>\n",
       "      <td>35.52</td>\n",
       "    </tr>\n",
       "    <tr>\n",
       "      <td>3</td>\n",
       "      <td>Wii Sports Resort</td>\n",
       "      <td>Wii</td>\n",
       "      <td>2009</td>\n",
       "      <td>Sports</td>\n",
       "      <td>15.61</td>\n",
       "      <td>10.93</td>\n",
       "      <td>3.28</td>\n",
       "      <td>2.95</td>\n",
       "      <td>80.0</td>\n",
       "      <td>8.0</td>\n",
       "      <td>E</td>\n",
       "      <td>32.77</td>\n",
       "    </tr>\n",
       "  </tbody>\n",
       "</table>\n",
       "</div>"
      ],
      "text/plain": [
       "                name platform  year_of_release   genre  na_sales  eu_sales  \\\n",
       "0         Wii Sports      Wii             2006  Sports     41.36     28.96   \n",
       "2     Mario Kart Wii      Wii             2008  Racing     15.68     12.76   \n",
       "3  Wii Sports Resort      Wii             2009  Sports     15.61     10.93   \n",
       "\n",
       "   jp_sales  other_sales  critic_score  user_score rating  total_sale  \n",
       "0      3.77         8.45          76.0         8.0      E       82.54  \n",
       "2      3.79         3.29          82.0         8.3      E       35.52  \n",
       "3      3.28         2.95          80.0         8.0      E       32.77  "
      ]
     },
     "execution_count": 19,
     "metadata": {},
     "output_type": "execute_result"
    }
   ],
   "source": [
    "pl_year.head(3)"
   ]
  },
  {
   "cell_type": "code",
   "execution_count": 20,
   "metadata": {
    "scrolled": true
   },
   "outputs": [
    {
     "data": {
      "image/png": "[encoded data removed]",
      "text/plain": [
       "<Figure size 1080x360 with 1 Axes>"
      ]
     },
     "metadata": {
      "needs_background": "light"
     },
     "output_type": "display_data"
    }
   ],
   "source": [
    "#сгруппируем предыдущую таблицу по платформе и году и посчитаем суммарные продажи\n",
    "gr_pl_year = (pl_year.pivot_table(index=['platform','year_of_release'],\n",
    "                                  values=['total_sale'],\n",
    "                                  aggfunc=['sum']).reset_index())\n",
    "#изменим названия столбцов после группировки\n",
    "gr_pl_year.columns = ['platform','year_of_release','total_sale']\n",
    "\n",
    "#построим график выручки по платформам по годам\n",
    "fig, ax = plt.subplots(figsize=(15,5))\n",
    "for platform in gr_pl_year['platform'].unique():\n",
    "    sns.kdeplot(gr_pl_year[gr_pl_year['platform'] == platform]['year_of_release'], \n",
    "                label = platform)\n",
    "plt.xlim(1994,2016)\n",
    "plt.xlabel('Год выпуска')\n",
    "plt.ylabel('Выручка')\n",
    "plt.title('Изменение выручки по платформам с течением времени', fontsize=16)\n",
    "plt.show()"
   ]
  },
  {
   "cell_type": "code",
   "execution_count": 21,
   "metadata": {},
   "outputs": [
    {
     "data": {
      "text/html": [
       "<div>\n",
       "<style scoped>\n",
       "    .dataframe tbody tr th:only-of-type {\n",
       "        vertical-align: middle;\n",
       "    }\n",
       "\n",
       "    .dataframe tbody tr th {\n",
       "        vertical-align: top;\n",
       "    }\n",
       "\n",
       "    .dataframe thead th {\n",
       "        text-align: right;\n",
       "    }\n",
       "</style>\n",
       "<table border=\"1\" class=\"dataframe\">\n",
       "  <thead>\n",
       "    <tr style=\"text-align: right;\">\n",
       "      <th></th>\n",
       "      <th>platform</th>\n",
       "      <th>year_of_release</th>\n",
       "      <th>total_sale</th>\n",
       "    </tr>\n",
       "  </thead>\n",
       "  <tbody>\n",
       "    <tr>\n",
       "      <td>0</td>\n",
       "      <td>3DS</td>\n",
       "      <td>2000</td>\n",
       "      <td>0.02</td>\n",
       "    </tr>\n",
       "    <tr>\n",
       "      <td>1</td>\n",
       "      <td>3DS</td>\n",
       "      <td>2010</td>\n",
       "      <td>0.30</td>\n",
       "    </tr>\n",
       "    <tr>\n",
       "      <td>2</td>\n",
       "      <td>3DS</td>\n",
       "      <td>2011</td>\n",
       "      <td>63.20</td>\n",
       "    </tr>\n",
       "    <tr>\n",
       "      <td>3</td>\n",
       "      <td>3DS</td>\n",
       "      <td>2012</td>\n",
       "      <td>51.76</td>\n",
       "    </tr>\n",
       "    <tr>\n",
       "      <td>4</td>\n",
       "      <td>3DS</td>\n",
       "      <td>2013</td>\n",
       "      <td>56.57</td>\n",
       "    </tr>\n",
       "    <tr>\n",
       "      <td>5</td>\n",
       "      <td>3DS</td>\n",
       "      <td>2014</td>\n",
       "      <td>43.76</td>\n",
       "    </tr>\n",
       "    <tr>\n",
       "      <td>6</td>\n",
       "      <td>3DS</td>\n",
       "      <td>2015</td>\n",
       "      <td>27.78</td>\n",
       "    </tr>\n",
       "    <tr>\n",
       "      <td>7</td>\n",
       "      <td>3DS</td>\n",
       "      <td>2016</td>\n",
       "      <td>15.14</td>\n",
       "    </tr>\n",
       "    <tr>\n",
       "      <td>8</td>\n",
       "      <td>DS</td>\n",
       "      <td>2004</td>\n",
       "      <td>17.27</td>\n",
       "    </tr>\n",
       "    <tr>\n",
       "      <td>9</td>\n",
       "      <td>DS</td>\n",
       "      <td>2005</td>\n",
       "      <td>130.14</td>\n",
       "    </tr>\n",
       "    <tr>\n",
       "      <td>10</td>\n",
       "      <td>DS</td>\n",
       "      <td>2006</td>\n",
       "      <td>119.81</td>\n",
       "    </tr>\n",
       "    <tr>\n",
       "      <td>11</td>\n",
       "      <td>DS</td>\n",
       "      <td>2007</td>\n",
       "      <td>147.23</td>\n",
       "    </tr>\n",
       "    <tr>\n",
       "      <td>12</td>\n",
       "      <td>DS</td>\n",
       "      <td>2008</td>\n",
       "      <td>145.36</td>\n",
       "    </tr>\n",
       "    <tr>\n",
       "      <td>13</td>\n",
       "      <td>DS</td>\n",
       "      <td>2009</td>\n",
       "      <td>119.56</td>\n",
       "    </tr>\n",
       "    <tr>\n",
       "      <td>14</td>\n",
       "      <td>DS</td>\n",
       "      <td>2010</td>\n",
       "      <td>85.35</td>\n",
       "    </tr>\n",
       "    <tr>\n",
       "      <td>15</td>\n",
       "      <td>DS</td>\n",
       "      <td>2011</td>\n",
       "      <td>26.33</td>\n",
       "    </tr>\n",
       "    <tr>\n",
       "      <td>16</td>\n",
       "      <td>DS</td>\n",
       "      <td>2012</td>\n",
       "      <td>11.67</td>\n",
       "    </tr>\n",
       "    <tr>\n",
       "      <td>17</td>\n",
       "      <td>DS</td>\n",
       "      <td>2013</td>\n",
       "      <td>1.54</td>\n",
       "    </tr>\n",
       "    <tr>\n",
       "      <td>18</td>\n",
       "      <td>GBA</td>\n",
       "      <td>2000</td>\n",
       "      <td>0.07</td>\n",
       "    </tr>\n",
       "    <tr>\n",
       "      <td>19</td>\n",
       "      <td>GBA</td>\n",
       "      <td>2001</td>\n",
       "      <td>61.53</td>\n",
       "    </tr>\n",
       "  </tbody>\n",
       "</table>\n",
       "</div>"
      ],
      "text/plain": [
       "   platform  year_of_release  total_sale\n",
       "0       3DS             2000        0.02\n",
       "1       3DS             2010        0.30\n",
       "2       3DS             2011       63.20\n",
       "3       3DS             2012       51.76\n",
       "4       3DS             2013       56.57\n",
       "5       3DS             2014       43.76\n",
       "6       3DS             2015       27.78\n",
       "7       3DS             2016       15.14\n",
       "8        DS             2004       17.27\n",
       "9        DS             2005      130.14\n",
       "10       DS             2006      119.81\n",
       "11       DS             2007      147.23\n",
       "12       DS             2008      145.36\n",
       "13       DS             2009      119.56\n",
       "14       DS             2010       85.35\n",
       "15       DS             2011       26.33\n",
       "16       DS             2012       11.67\n",
       "17       DS             2013        1.54\n",
       "18      GBA             2000        0.07\n",
       "19      GBA             2001       61.53"
      ]
     },
     "execution_count": 21,
     "metadata": {},
     "output_type": "execute_result"
    }
   ],
   "source": [
    "gr_pl_year.head(20)"
   ]
  },
  {
   "cell_type": "markdown",
   "metadata": {},
   "source": [
    "По графику можно сделать вывод, что у большинства платформ есть свой жизненный цикл, свойственный любому продукту - появление, рост, максимум, спад, уход с рынка. Редкие платформы переживают повторный подъем после спада, это скорее всего связано с приходом на рынок новых технологий.\n",
    "В 1995-х и в 2000-х годах платформы появлялись группами и дублировали свои жизненные циклы. Очевидно, что это были конкуренты.\n",
    "А жизненный цикл составляет примерно 10 лет. "
   ]
  },
  {
   "cell_type": "markdown",
   "metadata": {},
   "source": [
    "Для построения прогноза на будущее возьмем чуть меньший временной период, чтобы яснее понимать тенденцию. Пусть это будет 7 лет."
   ]
  },
  {
   "cell_type": "code",
   "execution_count": 22,
   "metadata": {},
   "outputs": [],
   "source": [
    "df_7year = df.query('2010 <= year_of_release <= 2016')"
   ]
  },
  {
   "cell_type": "code",
   "execution_count": 23,
   "metadata": {},
   "outputs": [
    {
     "data": {
      "text/html": [
       "<div>\n",
       "<style scoped>\n",
       "    .dataframe tbody tr th:only-of-type {\n",
       "        vertical-align: middle;\n",
       "    }\n",
       "\n",
       "    .dataframe tbody tr th {\n",
       "        vertical-align: top;\n",
       "    }\n",
       "\n",
       "    .dataframe thead th {\n",
       "        text-align: right;\n",
       "    }\n",
       "</style>\n",
       "<table border=\"1\" class=\"dataframe\">\n",
       "  <thead>\n",
       "    <tr style=\"text-align: right;\">\n",
       "      <th></th>\n",
       "      <th>0</th>\n",
       "      <th>1</th>\n",
       "      <th>2</th>\n",
       "      <th>3</th>\n",
       "      <th>4</th>\n",
       "      <th>5</th>\n",
       "      <th>6</th>\n",
       "      <th>7</th>\n",
       "      <th>8</th>\n",
       "      <th>9</th>\n",
       "      <th>10</th>\n",
       "      <th>11</th>\n",
       "    </tr>\n",
       "  </thead>\n",
       "  <tbody>\n",
       "    <tr>\n",
       "      <td>platform</td>\n",
       "      <td>PS3</td>\n",
       "      <td>X360</td>\n",
       "      <td>PS4</td>\n",
       "      <td>3DS</td>\n",
       "      <td>Wii</td>\n",
       "      <td>XOne</td>\n",
       "      <td>DS</td>\n",
       "      <td>PC</td>\n",
       "      <td>WiiU</td>\n",
       "      <td>PSP</td>\n",
       "      <td>PSV</td>\n",
       "      <td>PS2</td>\n",
       "    </tr>\n",
       "    <tr>\n",
       "      <td>total_sale</td>\n",
       "      <td>590.65</td>\n",
       "      <td>553.3</td>\n",
       "      <td>314.14</td>\n",
       "      <td>258.51</td>\n",
       "      <td>225.06</td>\n",
       "      <td>159.32</td>\n",
       "      <td>124.89</td>\n",
       "      <td>124.82</td>\n",
       "      <td>82.19</td>\n",
       "      <td>64.55</td>\n",
       "      <td>53.81</td>\n",
       "      <td>6.09</td>\n",
       "    </tr>\n",
       "  </tbody>\n",
       "</table>\n",
       "</div>"
      ],
      "text/plain": [
       "                 0      1       2       3       4       5       6       7  \\\n",
       "platform       PS3   X360     PS4     3DS     Wii    XOne      DS      PC   \n",
       "total_sale  590.65  553.3  314.14  258.51  225.06  159.32  124.89  124.82   \n",
       "\n",
       "                8      9     10    11  \n",
       "platform     WiiU    PSP    PSV   PS2  \n",
       "total_sale  82.19  64.55  53.81  6.09  "
      ]
     },
     "execution_count": 23,
     "metadata": {},
     "output_type": "execute_result"
    }
   ],
   "source": [
    "df_7years_pl = df_7year.groupby('platform')['total_sale'].sum().sort_values(ascending = False).reset_index()\n",
    "df_7years_pl.T"
   ]
  },
  {
   "cell_type": "markdown",
   "metadata": {},
   "source": [
    "Возьмем 7 самых прибыльных платформ:"
   ]
  },
  {
   "cell_type": "code",
   "execution_count": 24,
   "metadata": {},
   "outputs": [],
   "source": [
    "#отсортируем платформы: оставим те, где суммарные продажи составили более 150 млн. \n",
    "df_7years_pl = df_7years_pl.query('total_sale > 150.000000')\n",
    "df_7years_pl = df_7years_pl['platform']\n",
    "\n",
    "#создадим таблицу в которую входят только платформы из списка\n",
    "pl_year_7 = df_7year.query('platform in @df_7years_pl')"
   ]
  },
  {
   "cell_type": "code",
   "execution_count": 25,
   "metadata": {},
   "outputs": [
    {
     "data": {
      "image/png": "[encoded data removed]",
      "text/plain": [
       "<Figure size 1080x360 with 1 Axes>"
      ]
     },
     "metadata": {
      "needs_background": "light"
     },
     "output_type": "display_data"
    }
   ],
   "source": [
    "#построим график выручки по платформам по годам\n",
    "fig, ax = plt.subplots(figsize=(15,5))\n",
    "for platform in pl_year_7['platform'].unique():\n",
    "    sns.kdeplot(pl_year_7[pl_year_7['platform'] == platform]['year_of_release'], \n",
    "                label = platform, shade=True)\n",
    "plt.xlim(2010,2016)\n",
    "plt.xlabel('Год выпуска')\n",
    "plt.ylabel('Выручка')\n",
    "plt.title('Изменение выручки по платформам с течением времени', fontsize=16)\n",
    "plt.show()\n"
   ]
  },
  {
   "cell_type": "markdown",
   "metadata": {},
   "source": [
    "Видим, что лидером к 2016 году является PS4, продажи по ней продолжают расти. На втором месте XOne, также с тенденций к росту. Характерно, что появились они примерно одновременно, в середине 2012 года.\n",
    "\n",
    "Wii на стадии выхода с рынка уже с середины 2013 года.\n",
    "\n",
    "Остальные платформы не имеют выраженных скачков в этом временном интервале, они приносили стабильную прибыль на протяжении выбранного периода времени с тенденцией к постепенному снижению продаж. Можно сделать прогноз, что в 2017 продажи также будут постепенно убывать.\n",
    "\n",
    "Таким образом, лидерами в 2017 году станут PS4 и XOne."
   ]
  },
  {
   "cell_type": "markdown",
   "metadata": {},
   "source": [
    "Построим диаграммы размаха по глобальным продажам в разбивке по платформам."
   ]
  },
  {
   "cell_type": "code",
   "execution_count": 26,
   "metadata": {},
   "outputs": [
    {
     "data": {
      "image/png": "[encoded data removed]",
      "text/plain": [
       "<Figure size 720x720 with 1 Axes>"
      ]
     },
     "metadata": {
      "needs_background": "light"
     },
     "output_type": "display_data"
    }
   ],
   "source": [
    "fig, ax = plt.subplots(figsize=(10,10))\n",
    "sns.boxplot(x=\"platform\", y=\"total_sale\", data=pl_year_7);\n",
    "fig.suptitle('Размах по глобальным продажам основных платформ', fontsize=16)\n",
    "plt.show()"
   ]
  },
  {
   "cell_type": "markdown",
   "metadata": {},
   "source": [
    "Видно, что большая часть выручки лежит в диапазоне до 1 млн. c выбросами, некоторые из которых свыше 20 млн. Но при этом первый квартиль по каждой платфоре лежит ближе к нулю. Видим, что по всем платформам имеем длинный верхний ус, а выше него большое количество выбросов. Продажи по платформам X360, PS3, PS4 и XOne почти не различаются."
   ]
  },
  {
   "cell_type": "markdown",
   "metadata": {},
   "source": [
    "Посмотрим как влияют на продажи внутри одной популярной платформы отзывы пользователей и критиков. PS4 и XOne являются лидерами в последние годы, поэтому сделаем выборку и анализ именно по этим платформам. Построим графики и посчитаем корреляцию между отзывами и продажами."
   ]
  },
  {
   "cell_type": "code",
   "execution_count": 27,
   "metadata": {},
   "outputs": [],
   "source": [
    "#при выборке учтем, что в critic_score и user_score заполняли пропуски, удалим эти строки\n",
    "def diagramma(plat):    \n",
    "    df_7year_PS4 = df_7year[df_7year['platform']==plat].query('user_score!= 5000 & critic_score !=5000')\n",
    "    fig, ax = plt.subplots(figsize=(7,7))\n",
    "    sns.kdeplot(df_7year_PS4['user_score'], df_7year_PS4['total_sale'], \n",
    "            color='r', shade=True, cmap=\"Reds\", shade_lowest=False);\n",
    "    sns.kdeplot(df_7year_PS4['critic_score'], df_7year_PS4['total_sale'], \n",
    "            color='b', shade=True, cmap=\"Blues\", shade_lowest=False);\n",
    "    plt.ylim(-1,6)\n",
    "    plt.title('Корреляция оценок пользователей(red) и критиков(blue) с продажами', fontsize=12)\n",
    "    \n",
    "    print('Корреляция продаж', plat, 'и оценок пользователей:\\t', df_7year_PS4['user_score'].corr(df_7year_PS4['total_sale']).round(2))\n",
    "    print('Корреляция продаж', plat, 'и оценок критиков:     \\t',df_7year_PS4['critic_score'].corr(df_7year_PS4['total_sale']).round(2))"
   ]
  },
  {
   "cell_type": "code",
   "execution_count": 28,
   "metadata": {},
   "outputs": [
    {
     "name": "stdout",
     "output_type": "stream",
     "text": [
      "Корреляция продаж PS4 и оценок пользователей:\t -0.03\n",
      "Корреляция продаж PS4 и оценок критиков:     \t 0.41\n"
     ]
    },
    {
     "data": {
      "image/png": "[encoded data removed]",
      "text/plain": [
       "<Figure size 504x504 with 1 Axes>"
      ]
     },
     "metadata": {
      "needs_background": "light"
     },
     "output_type": "display_data"
    }
   ],
   "source": [
    "diagramma('PS4')"
   ]
  },
  {
   "cell_type": "code",
   "execution_count": 29,
   "metadata": {},
   "outputs": [
    {
     "name": "stdout",
     "output_type": "stream",
     "text": [
      "Корреляция продаж XOne и оценок пользователей:\t -0.09\n",
      "Корреляция продаж XOne и оценок критиков:     \t 0.41\n"
     ]
    },
    {
     "data": {
      "image/png": "[encoded data removed]",
      "text/plain": [
       "<Figure size 504x504 with 1 Axes>"
      ]
     },
     "metadata": {
      "needs_background": "light"
     },
     "output_type": "display_data"
    }
   ],
   "source": [
    "diagramma('XOne')"
   ]
  },
  {
   "cell_type": "markdown",
   "metadata": {},
   "source": [
    "Видим, что корреляция между оценками пользователей и продажами близка к нулю, а значит связи почти нет, т.е. продажи слабо зависят от оценок пользователей и на этот критерий нельзя полагаться. И напротив, почти линейная связь между оценками критиков и продажами, где критики выставили более высокие оценки, там и продажи выше."
   ]
  },
  {
   "cell_type": "markdown",
   "metadata": {},
   "source": [
    "Посмотрим на общее распределение игр по жанрам, чтобы узать какие из них самые прибыльные."
   ]
  },
  {
   "cell_type": "code",
   "execution_count": 30,
   "metadata": {},
   "outputs": [
    {
     "data": {
      "text/html": [
       "<div>\n",
       "<style scoped>\n",
       "    .dataframe tbody tr th:only-of-type {\n",
       "        vertical-align: middle;\n",
       "    }\n",
       "\n",
       "    .dataframe tbody tr th {\n",
       "        vertical-align: top;\n",
       "    }\n",
       "\n",
       "    .dataframe thead th {\n",
       "        text-align: right;\n",
       "    }\n",
       "</style>\n",
       "<table border=\"1\" class=\"dataframe\">\n",
       "  <thead>\n",
       "    <tr style=\"text-align: right;\">\n",
       "      <th></th>\n",
       "      <th>genre</th>\n",
       "      <th>total_sale</th>\n",
       "    </tr>\n",
       "  </thead>\n",
       "  <tbody>\n",
       "    <tr>\n",
       "      <td>0</td>\n",
       "      <td>Action</td>\n",
       "      <td>680.68</td>\n",
       "    </tr>\n",
       "    <tr>\n",
       "      <td>1</td>\n",
       "      <td>Shooter</td>\n",
       "      <td>482.22</td>\n",
       "    </tr>\n",
       "    <tr>\n",
       "      <td>2</td>\n",
       "      <td>Sports</td>\n",
       "      <td>329.43</td>\n",
       "    </tr>\n",
       "    <tr>\n",
       "      <td>3</td>\n",
       "      <td>Role-Playing</td>\n",
       "      <td>315.33</td>\n",
       "    </tr>\n",
       "    <tr>\n",
       "      <td>4</td>\n",
       "      <td>Misc</td>\n",
       "      <td>235.05</td>\n",
       "    </tr>\n",
       "    <tr>\n",
       "      <td>5</td>\n",
       "      <td>Racing</td>\n",
       "      <td>122.68</td>\n",
       "    </tr>\n",
       "    <tr>\n",
       "      <td>6</td>\n",
       "      <td>Platform</td>\n",
       "      <td>119.72</td>\n",
       "    </tr>\n",
       "    <tr>\n",
       "      <td>7</td>\n",
       "      <td>Fighting</td>\n",
       "      <td>81.59</td>\n",
       "    </tr>\n",
       "    <tr>\n",
       "      <td>8</td>\n",
       "      <td>Simulation</td>\n",
       "      <td>72.05</td>\n",
       "    </tr>\n",
       "    <tr>\n",
       "      <td>9</td>\n",
       "      <td>Adventure</td>\n",
       "      <td>61.00</td>\n",
       "    </tr>\n",
       "    <tr>\n",
       "      <td>10</td>\n",
       "      <td>Strategy</td>\n",
       "      <td>36.36</td>\n",
       "    </tr>\n",
       "    <tr>\n",
       "      <td>11</td>\n",
       "      <td>Puzzle</td>\n",
       "      <td>21.22</td>\n",
       "    </tr>\n",
       "  </tbody>\n",
       "</table>\n",
       "</div>"
      ],
      "text/plain": [
       "           genre  total_sale\n",
       "0         Action      680.68\n",
       "1        Shooter      482.22\n",
       "2         Sports      329.43\n",
       "3   Role-Playing      315.33\n",
       "4           Misc      235.05\n",
       "5         Racing      122.68\n",
       "6       Platform      119.72\n",
       "7       Fighting       81.59\n",
       "8     Simulation       72.05\n",
       "9      Adventure       61.00\n",
       "10      Strategy       36.36\n",
       "11        Puzzle       21.22"
      ]
     },
     "execution_count": 30,
     "metadata": {},
     "output_type": "execute_result"
    }
   ],
   "source": [
    "df_7year_gen = df_7year.groupby('genre')['total_sale'].sum().sort_values(ascending = False).reset_index()\n",
    "df_7year_gen"
   ]
  },
  {
   "cell_type": "markdown",
   "metadata": {},
   "source": [
    "Из полученной таблицы можно сделать необходимые выводы, однако визуализируем ее для большей наглядности:"
   ]
  },
  {
   "cell_type": "code",
   "execution_count": 31,
   "metadata": {},
   "outputs": [
    {
     "data": {
      "image/png": "[encoded data removed]",
      "text/plain": [
       "<Figure size 720x432 with 1 Axes>"
      ]
     },
     "metadata": {
      "needs_background": "light"
     },
     "output_type": "display_data"
    }
   ],
   "source": [
    "df_7year_gen.plot.bar(x='genre', y='total_sale', \n",
    "                      grid=True, title='Распределение прибыльности по жанрам');"
   ]
  },
  {
   "cell_type": "markdown",
   "metadata": {},
   "source": [
    "Самый прибыльный жанр за последние 7 лет- Action, он но 40 процентов более прибылен чем его ближайший конкурент, серебрянный призер Shooter. На третьем и четвертом месте по выручке находятся Sports Role-Playing, с незначительным отличаем. Из этого делаем вывод, что все что связано с движением, активностью и снятием стресса лидирует по продажам. Жанр Misc также не сильно отстает, это связано с его высокой распространенностью, ведь музыка сопровождает нас повсеместно. Оставшиеся жанры больше связаны с интеллектом и продаюся не так хорошо и даже все в сумме не дают такой выручки как лидер списка, однако тоже представляют интерес и находят своего покупателя."
   ]
  },
  {
   "cell_type": "markdown",
   "metadata": {},
   "source": [
    "## 4. Портрет пользователя каждого региона. <a id='#step4'></a>"
   ]
  },
  {
   "cell_type": "markdown",
   "metadata": {},
   "source": [
    "Составим портреты игроков в каждом регионе и посмотрим есть ли различия в продажах. Для этого выделим Топ-5 платформ в каждом регионе."
   ]
  },
  {
   "cell_type": "code",
   "execution_count": 32,
   "metadata": {},
   "outputs": [],
   "source": [
    "def portret(region,reg):\n",
    "    df_reg = df_7year.groupby('platform')[region].sum().sort_values(ascending = False).reset_index().head()\n",
    "    df_reg.plot.bar(x='platform', y=region, figsize=(4,3),\n",
    "                    grid=True, title=reg);"
   ]
  },
  {
   "cell_type": "code",
   "execution_count": 33,
   "metadata": {},
   "outputs": [
    {
     "data": {
      "image/png": "[encoded data removed]",
      "text/plain": [
       "<Figure size 288x216 with 1 Axes>"
      ]
     },
     "metadata": {
      "needs_background": "light"
     },
     "output_type": "display_data"
    }
   ],
   "source": [
    "portret('na_sales', 'Топ платформ в регионе США')"
   ]
  },
  {
   "cell_type": "code",
   "execution_count": 34,
   "metadata": {},
   "outputs": [
    {
     "data": {
      "image/png": "[encoded data removed]",
      "text/plain": [
       "<Figure size 288x216 with 1 Axes>"
      ]
     },
     "metadata": {
      "needs_background": "light"
     },
     "output_type": "display_data"
    }
   ],
   "source": [
    "portret('eu_sales', 'Топ платформ в регионе Европа')"
   ]
  },
  {
   "cell_type": "code",
   "execution_count": 35,
   "metadata": {},
   "outputs": [
    {
     "data": {
      "image/png": "[encoded data removed]",
      "text/plain": [
       "<Figure size 288x216 with 1 Axes>"
      ]
     },
     "metadata": {
      "needs_background": "light"
     },
     "output_type": "display_data"
    }
   ],
   "source": [
    "portret('jp_sales', 'Топ платформ в регионе Япония')"
   ]
  },
  {
   "cell_type": "markdown",
   "metadata": {},
   "source": [
    "Первое, что бросается в глаза, то что в Америке игр продается больше, чем в Европе и Японии.\n",
    "Что касается предпочтений по платформам, то Европе и в Америке вкусы геймеров очень близки. Топ-5 здесь почти совпадает, а первые два места занимают одинаковые игры, хотя с разницей в объеме продаж. А вот азиатский регион сильно отличается по игровым предпочтениям. Здесь только одна платформа из популяных в Америке и Европе смолга попасть в Топ-5  - это PS3 и заняла почетное второе место. Остальные игры здесь отличаются. Думаю это говорит также и о различии менталитетов."
   ]
  },
  {
   "cell_type": "markdown",
   "metadata": {},
   "source": [
    "## 5. Проверка гипотез. <a id='#step5'></a>"
   ]
  },
  {
   "cell_type": "markdown",
   "metadata": {},
   "source": [
    "Сначала напишем функцию проверки гипотез:"
   ]
  },
  {
   "cell_type": "code",
   "execution_count": 36,
   "metadata": {},
   "outputs": [],
   "source": [
    "#очистим данные от искусвенно заполненных значений\n",
    "df_mean = df_7year.query('user_score !=5000.0 & critic_score !=5000.0')"
   ]
  },
  {
   "cell_type": "code",
   "execution_count": 37,
   "metadata": {},
   "outputs": [],
   "source": [
    "#функция проверки гипотез\n",
    "def correlation(table, col1, val1, val2):\n",
    "    table1 = table[table[col1] == val1]['user_score']\n",
    "    table2 = table[table[col1] == val2]['user_score']\n",
    "    alpha = 0.05\n",
    "    results = st.ttest_ind(table1, table2)    \n",
    "    print('p-значение:', results.pvalue)\n",
    "    if results.pvalue < alpha:\n",
    "        print(\"Отвергаем нулевую гипотезу\")\n",
    "    else:\n",
    "        print(\"Не получилось отвергнуть нулевую гипотезу\")"
   ]
  },
  {
   "cell_type": "markdown",
   "metadata": {},
   "source": [
    "#### 5.1 Гипотеза:\n",
    "- Нулевая гипотеза: Средние пользовательские рейтинги платформ XOne и PC одинаковые\n",
    "- Альтернативная гипотеза: Средние пользовательские рейтинги платформ XOne и PC различаются"
   ]
  },
  {
   "cell_type": "code",
   "execution_count": 38,
   "metadata": {},
   "outputs": [
    {
     "name": "stdout",
     "output_type": "stream",
     "text": [
      "p-значение: 0.983488649278083\n",
      "Не получилось отвергнуть нулевую гипотезу\n"
     ]
    }
   ],
   "source": [
    "correlation(df_mean, 'platform', 'XOne', 'PC')"
   ]
  },
  {
   "cell_type": "markdown",
   "metadata": {},
   "source": [
    "Не получилось отвергнуть нулевую гипотезу, это означает, что средние пользовательские рейтинги платформ XOne и PC одинаковые."
   ]
  },
  {
   "cell_type": "markdown",
   "metadata": {},
   "source": [
    "#### 5.2 Гипотеза:\n",
    "- Нулевая гипотеза: Средние пользовательские рейтинги жанров Action и Sports одинаковые\n",
    "- Альтернативная гипотеза: Средние пользовательские рейтинги жанров Action и Sports разные"
   ]
  },
  {
   "cell_type": "code",
   "execution_count": 39,
   "metadata": {},
   "outputs": [
    {
     "name": "stdout",
     "output_type": "stream",
     "text": [
      "p-значение: 5.4343139442135733e-11\n",
      "Отвергаем нулевую гипотезу\n"
     ]
    }
   ],
   "source": [
    "correlation(df_mean, 'genre', 'Action', 'Sports')"
   ]
  },
  {
   "cell_type": "markdown",
   "metadata": {},
   "source": [
    "Отвергаем нулевую гипотезу, а значит средние пользовательские рейтинги жанров Action и Sports разные."
   ]
  },
  {
   "cell_type": "markdown",
   "metadata": {},
   "source": [
    "Были проверены две гипотезы и получен результат. Однако, на мой взгляд, данные выводы могут быть ошибочны, поскольку выборка изначальных корректных данных по стобцу пользовательского рейтинга слишком мала, особенно при отборе значений по конкретной платформе или жанру."
   ]
  },
  {
   "cell_type": "markdown",
   "metadata": {},
   "source": [
    "## 6. Окончательные выводы. <a id='#step6'></a>"
   ]
  },
  {
   "cell_type": "markdown",
   "metadata": {},
   "source": [
    "Итак, мы увидели что:\n",
    "\n",
    "1) Игровая индустрия менялась с течением времени. До 1994 года появлялось не более 50 новых игр в год, кратный рост их количества начался с 1994-1995 г и достиг пика к 2008-2009 годам. Затем количство выпускаемых игр снова пошло на спад. Возможно это связано с тем, что производители стали делать больше акцент на качество, графику и лучше понимать потребности геймеров, появилась некоторая статистика, на основе которой могли создаваться новые продукты более осмысленно. Также, возможно, это связано просто с изменением технологий, пресыщением рынка и с тем, что сегодня это по большей части не отдельные игровые приставки, а по сути компьютереные программы.\n",
    "\n",
    "2) Отследили жизненный цикл игровых платформ, оно оказался равным приблизительно 10 годам и имеет характерные для любого продукта с точки зрения маркетинга стадии жизненного цикла. В 1995-х и в 2000-х годах платформы появлялись группами и тесно конкурировали между собой. За последние 7 лет самыми прибыльными были платформы PS3, X360 и PS4, а в следующем (2017) году лидерами продаж станут PS4 и XOne.\n",
    "\n",
    "3) При оценке продаж не стоит полагаться на отзывы пользователей, это обманчивый критерий. А вот оценки критиков напротив стоит учитывать, поскольку их корреляция с продажами почти линейная.\n",
    "\n",
    "4) Самыми прибыльными жанрами за последние 7 лет стали Action, Shooter и Sports, поделив три первых места в рейтинге. При этом жанр Action лидирует с большим отрывом. Также, в целом заметно, что пользователям больше по душе игры связанные с подвижностью и снятием стресса, чем интеллектуальные.\n",
    "\n",
    "5) Предпочтения геймеров также различаются и по регионам. При этом американский и европейский рынки ближе друг к другу, в то время как азиатский имеет свою специфику и видимо требует особого подхода при создании новых игр с учетом менталитета, там не работают в явном виде правила американо-европейского рынка. Платформа PS3 в этом отношении самая универсальная, завоевавшая популярность во всех регионах.\n",
    "\n",
    "6) В результате проверки гипотез выявлены закономерности: \"средние пользовательские рейтинги платформ XOne и PC одинаковые\" и \"средние пользовательские рейтинги жанров Action и Sports разные\". Однако, на мой взгляд, для большей уверенности в этом необходимы более полные исходные данные.\n",
    "\n",
    "\n",
    "Думаю, на данный момент, производители больше сконцентрированы на улучшении качества имеющихся игр, улучшения существующего кода, для более быстрой работы при улучшенной графике и поисках новых технологий. Также легко предположить, что для серьезного качественного скачка в индустрии нужны новые технологии, увеличение вычислительной мощности компьютеров и с появлением в широком доступе квантовых компьютеров игровая индустрия будет переживать новый всплеск, как и другие сферы нашей жизни."
   ]
  }
 ],
 "metadata": {
  "kernelspec": {
   "display_name": "Python 3",
   "language": "python",
   "name": "python3"
  },
  "language_info": {
   "codemirror_mode": {
    "name": "ipython",
    "version": 3
   },
   "file_extension": ".py",
   "mimetype": "text/x-python",
   "name": "python",
   "nbconvert_exporter": "python",
   "pygments_lexer": "ipython3",
   "version": "3.8.5"
  },
  "toc": {
   "base_numbering": 1,
   "nav_menu": {},
   "number_sections": true,
   "sideBar": true,
   "skip_h1_title": true,
   "title_cell": "Table of Contents",
   "title_sidebar": "Contents",
   "toc_cell": false,
   "toc_position": {},
   "toc_section_display": true,
   "toc_window_display": false
  }
 },
 "nbformat": 4,
 "nbformat_minor": 2
}
